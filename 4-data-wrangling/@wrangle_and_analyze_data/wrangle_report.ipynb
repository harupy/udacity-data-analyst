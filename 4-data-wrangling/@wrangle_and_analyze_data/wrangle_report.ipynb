{
 "cells": [
  {
   "cell_type": "markdown",
   "metadata": {},
   "source": [
    "# WeRateDogs: Wrangle report\n",
    "\n",
    "This report consists of the following five parts.\n",
    "1. Gathering\n",
    "2. Assesing\n",
    "3. Cleaning\n",
    "4. Feature Engineering\n",
    "5. Storing\n",
    "\n",
    "\n",
    "## 1. Gathering\n",
    "We use the following three pieces of data in a Jupyter Notebook titled wrangle_act.ipynb:\n",
    "\n",
    "- The WeRateDogs Twitter archive. File downloaded manually. Link : data/twitter_archive_enhanced.csv\n",
    "- The tweet image predictions. This file (image_predictions.tsv) is hosted on Udacity's servers and had been downloaded programmatically using the Requests library and the following URL: https://d17h27t6h515a5.cloudfront.net/topher/2017/August/599fd2ad_image-predictions/image-predictions.tsv\n",
    "- Using the tweet IDs in the WeRateDogs Twitter archive, query the Twitter API for each tweet's JSON data using Python's Tweepy library and store each tweet's entire set of JSON data in a file called tweet_json.txt file.\n",
    "\n",
    "# Assesing Summary\n",
    "\n",
    "### Quality\n",
    "**twitter-archive-enhanced.csv**\n",
    "- Retweets and replies are included\n",
    "- `timestamp` should be datetime instead of string\n",
    "- Incorrect rating numerator\n",
    "- Incorrect rating denominator\n",
    "- Invalid names in `name` such as 'a', 'an', 'the'\n",
    "\n",
    "**image-predictions.tsv**\n",
    "- Duplicates in `jpg_url`\n",
    "- Two png image urls are included in `jpg_url` \n",
    "- Not all tweets in the twitter archive have images\n",
    "\n",
    "### Tidiness\n",
    "- Three dataframes(df_api, df_tweet, df_img) should be merged together\n",
    "- Unwanted columns should be removed\n",
    "\n",
    "**twitter-archive-enhanced.csv**\n",
    "- `doggo`, `loofer`, `pupper`, `puppo`, these columns needs to be boolean values to be exploitable\n",
    "\n",
    "**image-predictions.tsv**\n",
    "- Prediction labels in `p1`, `p2`, `p3` are inconsistent. Some start with a capital letter and some with a small letter\n",
    "\n",
    "\n",
    "## 3. Cleaning\n",
    "- Merge three dataframe objects\n",
    "- Remove retweets and replies\n",
    "- Convert `timestamp` to datetime\n",
    "- Replace invalid names in `name` with NaN\n",
    "- Replace incorrect rating `numerator` and `denominator` with correct values\n",
    "- Convert `doggo`, `loofer`, `pupper`, `puppo` to 0(False) and 1(True)\n",
    "- Drop duplicates in `jpg_url`\n",
    "- Change the column name `jpg_url` to `img_url`\n",
    "- Capitalize prediction labels in `p1`,`p2`,`p3`\n",
    "- Remove unwanted columns\n",
    "  - `in_reply_to_status_id`\n",
    "  - `in_reply_to_user_id`\n",
    "  - `retweeted_status_id`\n",
    "  - `retweeted_status_user_id`\n",
    "  - `retweeted_status_timestamp`\n",
    "  - `expanded_urls`\n",
    "\n",
    "## 4. Feature engineering\n",
    "I added the following new features which might affect the rating, retweet and favorite count.\n",
    "- gender: dog's gender\n",
    "- is_dog: `0` if WeRateDogs says it's not a dog else `1`\n",
    "- is_animal: `0` if WeRateDogs says there's no dog in the picture else `1`\n",
    "\n",
    "## 5. Storing\n",
    "The clean dataframe was saved as **`twitter_archive_master.csv`**"
   ]
  },
  {
   "cell_type": "code",
   "execution_count": null,
   "metadata": {
    "collapsed": true
   },
   "outputs": [],
   "source": []
  }
 ],
 "metadata": {
  "kernelspec": {
   "display_name": "Python [conda env:machine-learning]",
   "language": "python",
   "name": "conda-env-machine-learning-py"
  },
  "language_info": {
   "codemirror_mode": {
    "name": "ipython",
    "version": 3
   },
   "file_extension": ".py",
   "mimetype": "text/x-python",
   "name": "python",
   "nbconvert_exporter": "python",
   "pygments_lexer": "ipython3",
   "version": "3.6.6"
  }
 },
 "nbformat": 4,
 "nbformat_minor": 2
}
