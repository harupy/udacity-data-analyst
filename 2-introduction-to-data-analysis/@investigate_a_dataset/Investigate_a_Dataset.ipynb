{
 "cells": [
  {
   "cell_type": "markdown",
   "metadata": {
    "nbpresent": {
     "id": "8830d142-d2ca-420e-8640-1436bc7e0438"
    }
   },
   "source": [
    "> **Tip**: Welcome to the Investigate a Dataset project! You will find tips in quoted sections like this to help organize your approach to your investigation. Before submitting your project, it will be a good idea to go back through your report and remove these sections to make the presentation of your work as tidy as possible. First things first, you might want to double-click this Markdown cell and change the title so that it reflects your dataset and investigation.\n",
    "\n",
    "# Project: Investigate Medical Appointment No Show\n",
    "\n",
    "## Table of Contents\n",
    "<ul>\n",
    "<li><a href=\"#intro\">Introduction</a></li>\n",
    "<li><a href=\"#wrangling\">Data Wrangling</a></li>\n",
    "<li><a href=\"#eda\">Exploratory Data Analysis</a></li>\n",
    "<li><a href=\"#conclusions\">Conclusions</a></li>\n",
    "</ul>"
   ]
  },
  {
   "cell_type": "markdown",
   "metadata": {
    "nbpresent": {
     "id": "9cfcac0e-620e-43e6-9211-0d0b4b1a9d9d"
    }
   },
   "source": [
    "<a id='intro'></a>\n",
    "## Introduction\n",
    "\n",
    "> **Tip**: In this section of the report, provide a brief introduction to the dataset you've selected for analysis. At the end of this section, describe the questions that you plan on exploring over the course of the report. Try to build your report around the analysis of at least one dependent variable and three independent variables. If you're not sure what questions to ask, then make sure you familiarize yourself with the dataset, its variables and the dataset context for ideas of what to explore.\n",
    "\n",
    "> If you haven't yet selected and downloaded your data, make sure you do that first before coming back here. In order to work with the data in this workspace, you also need to upload it to the workspace. To do so, click on the jupyter icon in the upper left to be taken back to the workspace directory. There should be an 'Upload' button in the upper right that will let you add your data file(s) to the workspace. You can then click on the .ipynb file name to come back here."
   ]
  },
  {
   "cell_type": "markdown",
   "metadata": {
    "nbpresent": {
     "id": "3ca769ec-28db-48d7-bb91-92b8749b9222"
    }
   },
   "source": [
    "In this project I investigate a dataset of appoinment records in public hospitals in Brazil. The dataset includes whether the patient showed up to the appointment, as well as other features of the patient and the appointment.\n",
    "\n",
    "## Question:\n",
    "What factors are important for us to know in order to predict if a patient will show up for their scheduled appointment?"
   ]
  },
  {
   "cell_type": "code",
   "execution_count": 1,
   "metadata": {
    "nbpresent": {
     "id": "9951eaeb-c5a8-4a56-9d3f-8efd957f5303"
    }
   },
   "outputs": [],
   "source": [
    "# Use this cell to set up import statements for all of the packages that you\n",
    "#   plan to use.\n",
    "\n",
    "# Remember to include a 'magic word' so that your visualizations are plotted\n",
    "#   inline with the notebook. See this page for more:\n",
    "#   http://ipython.readthedocs.io/en/stable/interactive/magics.html\n",
    "import pandas as pd\n",
    "import numpy as np\n",
    "import matplotlib.pyplot as plt\n",
    "import warnings\n",
    "import seaborn as sns\n",
    "from IPython.core.display import HTML\n",
    "sns.set()\n",
    "warnings.filterwarnings('ignore')\n",
    "%matplotlib inline\n",
    "plt.rcParams['figure.figsize'] = (8, 5)\n",
    "# HTML('<style> code {background-color:#E8E8E8 !important;} </style>')"
   ]
  },
  {
   "cell_type": "markdown",
   "metadata": {
    "nbpresent": {
     "id": "c57f7db9-4589-439d-86a8-cad3ff20ea01"
    }
   },
   "source": [
    "<a id='wrangling'></a>\n",
    "# Data Wrangling\n",
    "\n",
    "> **Tip**: In this section of the report, you will load in the data, check for cleanliness, and then trim and clean your dataset for analysis. Make sure that you document your steps carefully and justify your cleaning decisions.\n",
    "\n",
    "### General Properties"
   ]
  },
  {
   "cell_type": "code",
   "execution_count": 2,
   "metadata": {
    "nbpresent": {
     "id": "868ab1b7-9893-48ff-8a8b-2dc4cf04d326"
    }
   },
   "outputs": [
    {
     "data": {
      "text/html": [
       "<div>\n",
       "<style scoped>\n",
       "    .dataframe tbody tr th:only-of-type {\n",
       "        vertical-align: middle;\n",
       "    }\n",
       "\n",
       "    .dataframe tbody tr th {\n",
       "        vertical-align: top;\n",
       "    }\n",
       "\n",
       "    .dataframe thead th {\n",
       "        text-align: right;\n",
       "    }\n",
       "</style>\n",
       "<table border=\"1\" class=\"dataframe\">\n",
       "  <thead>\n",
       "    <tr style=\"text-align: right;\">\n",
       "      <th></th>\n",
       "      <th>patient_id</th>\n",
       "      <th>appointment_id</th>\n",
       "      <th>gender</th>\n",
       "      <th>scheduled_day</th>\n",
       "      <th>appointment_day</th>\n",
       "      <th>age</th>\n",
       "      <th>neighbourhood</th>\n",
       "      <th>scholarship</th>\n",
       "      <th>hypertension</th>\n",
       "      <th>diabetes</th>\n",
       "      <th>alcoholism</th>\n",
       "      <th>handicap</th>\n",
       "      <th>sms_received</th>\n",
       "      <th>no_show</th>\n",
       "    </tr>\n",
       "  </thead>\n",
       "  <tbody>\n",
       "    <tr>\n",
       "      <th>0</th>\n",
       "      <td>2.987250e+13</td>\n",
       "      <td>5642903</td>\n",
       "      <td>F</td>\n",
       "      <td>2016-04-29T18:38:08Z</td>\n",
       "      <td>2016-04-29T00:00:00Z</td>\n",
       "      <td>62</td>\n",
       "      <td>JARDIM DA PENHA</td>\n",
       "      <td>0</td>\n",
       "      <td>1</td>\n",
       "      <td>0</td>\n",
       "      <td>0</td>\n",
       "      <td>0</td>\n",
       "      <td>0</td>\n",
       "      <td>No</td>\n",
       "    </tr>\n",
       "    <tr>\n",
       "      <th>1</th>\n",
       "      <td>5.589978e+14</td>\n",
       "      <td>5642503</td>\n",
       "      <td>M</td>\n",
       "      <td>2016-04-29T16:08:27Z</td>\n",
       "      <td>2016-04-29T00:00:00Z</td>\n",
       "      <td>56</td>\n",
       "      <td>JARDIM DA PENHA</td>\n",
       "      <td>0</td>\n",
       "      <td>0</td>\n",
       "      <td>0</td>\n",
       "      <td>0</td>\n",
       "      <td>0</td>\n",
       "      <td>0</td>\n",
       "      <td>No</td>\n",
       "    </tr>\n",
       "    <tr>\n",
       "      <th>2</th>\n",
       "      <td>4.262962e+12</td>\n",
       "      <td>5642549</td>\n",
       "      <td>F</td>\n",
       "      <td>2016-04-29T16:19:04Z</td>\n",
       "      <td>2016-04-29T00:00:00Z</td>\n",
       "      <td>62</td>\n",
       "      <td>MATA DA PRAIA</td>\n",
       "      <td>0</td>\n",
       "      <td>0</td>\n",
       "      <td>0</td>\n",
       "      <td>0</td>\n",
       "      <td>0</td>\n",
       "      <td>0</td>\n",
       "      <td>No</td>\n",
       "    </tr>\n",
       "    <tr>\n",
       "      <th>3</th>\n",
       "      <td>8.679512e+11</td>\n",
       "      <td>5642828</td>\n",
       "      <td>F</td>\n",
       "      <td>2016-04-29T17:29:31Z</td>\n",
       "      <td>2016-04-29T00:00:00Z</td>\n",
       "      <td>8</td>\n",
       "      <td>PONTAL DE CAMBURI</td>\n",
       "      <td>0</td>\n",
       "      <td>0</td>\n",
       "      <td>0</td>\n",
       "      <td>0</td>\n",
       "      <td>0</td>\n",
       "      <td>0</td>\n",
       "      <td>No</td>\n",
       "    </tr>\n",
       "    <tr>\n",
       "      <th>4</th>\n",
       "      <td>8.841186e+12</td>\n",
       "      <td>5642494</td>\n",
       "      <td>F</td>\n",
       "      <td>2016-04-29T16:07:23Z</td>\n",
       "      <td>2016-04-29T00:00:00Z</td>\n",
       "      <td>56</td>\n",
       "      <td>JARDIM DA PENHA</td>\n",
       "      <td>0</td>\n",
       "      <td>1</td>\n",
       "      <td>1</td>\n",
       "      <td>0</td>\n",
       "      <td>0</td>\n",
       "      <td>0</td>\n",
       "      <td>No</td>\n",
       "    </tr>\n",
       "  </tbody>\n",
       "</table>\n",
       "</div>"
      ],
      "text/plain": [
       "     patient_id  appointment_id gender         scheduled_day  \\\n",
       "0  2.987250e+13         5642903      F  2016-04-29T18:38:08Z   \n",
       "1  5.589978e+14         5642503      M  2016-04-29T16:08:27Z   \n",
       "2  4.262962e+12         5642549      F  2016-04-29T16:19:04Z   \n",
       "3  8.679512e+11         5642828      F  2016-04-29T17:29:31Z   \n",
       "4  8.841186e+12         5642494      F  2016-04-29T16:07:23Z   \n",
       "\n",
       "        appointment_day  age      neighbourhood  scholarship  hypertension  \\\n",
       "0  2016-04-29T00:00:00Z   62    JARDIM DA PENHA            0             1   \n",
       "1  2016-04-29T00:00:00Z   56    JARDIM DA PENHA            0             0   \n",
       "2  2016-04-29T00:00:00Z   62      MATA DA PRAIA            0             0   \n",
       "3  2016-04-29T00:00:00Z    8  PONTAL DE CAMBURI            0             0   \n",
       "4  2016-04-29T00:00:00Z   56    JARDIM DA PENHA            0             1   \n",
       "\n",
       "   diabetes  alcoholism  handicap  sms_received no_show  \n",
       "0         0           0         0             0      No  \n",
       "1         0           0         0             0      No  \n",
       "2         0           0         0             0      No  \n",
       "3         0           0         0             0      No  \n",
       "4         1           0         0             0      No  "
      ]
     },
     "execution_count": 2,
     "metadata": {},
     "output_type": "execute_result"
    }
   ],
   "source": [
    "# Load your data and print out a few lines. Perform operations to inspect data\n",
    "#   types and look for instances of missing or possibly errant data.\n",
    "fpath = 'data/noshowappointments-kagglev2-may-2016.csv'\n",
    "df = pd.read_csv(fpath)\n",
    "\n",
    "# rename columns\n",
    "df.columns = [\n",
    "    'patient_id', 'appointment_id', 'gender', 'scheduled_day',\n",
    "    'appointment_day', 'age', 'neighbourhood', 'scholarship',\n",
    "    'hypertension', 'diabetes', 'alcoholism', 'handicap', 'sms_received',\n",
    "    'no_show'\n",
    "]\n",
    "\n",
    "df.head()"
   ]
  },
  {
   "cell_type": "markdown",
   "metadata": {
    "nbpresent": {
     "id": "73c56d18-6fe7-414e-a45e-f50d05d255a0"
    }
   },
   "source": [
    "- `scheduled_day` is time but `appointment_day` is date"
   ]
  },
  {
   "cell_type": "markdown",
   "metadata": {
    "nbpresent": {
     "id": "d57c1284-ef2d-4460-a4a7-15164cd73237"
    }
   },
   "source": [
    "## [Overview](https://www.kaggle.com/joniarroba/noshowappointments/home)\n",
    "### Context\n",
    "A person makes a doctor appointment, receives all the instructions and no-show. Who to blame? If this is help, don´t forget to upvote :) Greatings!\n",
    "\n",
    "### Content\n",
    "300k medical appointments and its 15 variables (characteristics) of each. The most important one if the patient show-up or no-show the appointment. Variable names are self-explanatory, if you have doubts, just let me know!\n",
    "\n",
    "scholarship variable means this concept = https://en.wikipedia.org/wiki/Bolsa_Fam%C3%ADlia\n",
    "\n",
    "### Data Dictionary\n",
    "- `patient_id` = Identification of a patient\n",
    "- `appointment_id` = Identification of each appointment\n",
    "- `gender` = Male or Female . Female is the greater proportion, woman takes way more care of they health in comparison to man.\n",
    "- `scheduled_day` = The day someone called or registered the appointment, this is before appointment of course.\n",
    "- `appointment_ay` = The day of the actuall appointment, when they have to visit the doctor.\n",
    "- `age` = How old is the patient.\n",
    "- `neighbourhood` = Where the appointment takes place.\n",
    "- `scholarship` = Ture of False . Observation, this is a broad topic, consider reading this article https://en.wikipedia.org/wiki/Bolsa_Fam%C3%ADlia\n",
    "- `hipertension` = True or False\n",
    "- `diabetes` = True or False\n",
    "- `alcoholism` = True or False\n",
    "- `handcap` = True or False\n",
    "- `sms_received` = 1 or more messages sent to the patient.\n",
    "- `no-show` = True or False.\n",
    "\n",
    "*Nighbourhood means the place where the hospital is located and not where the patient lives\n",
    "\n",
    "### Inspiration\n",
    "What if that possible to predict someone to no-show an appointment?"
   ]
  },
  {
   "cell_type": "code",
   "execution_count": 3,
   "metadata": {
    "nbpresent": {
     "id": "0dfe5f10-d414-4bf6-8290-490499a25fa9"
    }
   },
   "outputs": [
    {
     "name": "stdout",
     "output_type": "stream",
     "text": [
      "<class 'pandas.core.frame.DataFrame'>\n",
      "RangeIndex: 110527 entries, 0 to 110526\n",
      "Data columns (total 14 columns):\n",
      "patient_id         110527 non-null float64\n",
      "appointment_id     110527 non-null int64\n",
      "gender             110527 non-null object\n",
      "scheduled_day      110527 non-null object\n",
      "appointment_day    110527 non-null object\n",
      "age                110527 non-null int64\n",
      "neighbourhood      110527 non-null object\n",
      "scholarship        110527 non-null int64\n",
      "hypertension       110527 non-null int64\n",
      "diabetes           110527 non-null int64\n",
      "alcoholism         110527 non-null int64\n",
      "handicap           110527 non-null int64\n",
      "sms_received       110527 non-null int64\n",
      "no_show            110527 non-null object\n",
      "dtypes: float64(1), int64(8), object(5)\n",
      "memory usage: 11.8+ MB\n"
     ]
    }
   ],
   "source": [
    "df.info()"
   ]
  },
  {
   "cell_type": "markdown",
   "metadata": {
    "nbpresent": {
     "id": "8bd2ddd2-1f3c-4677-9037-0d4ab77662e3"
    }
   },
   "source": [
    "- There is no row which contains null values\n",
    "- `patient_id` needs to be converted to float\n",
    "- ScheduledDay and AppointmentDay are string. I'll convert them to datetime."
   ]
  },
  {
   "cell_type": "code",
   "execution_count": 4,
   "metadata": {
    "nbpresent": {
     "id": "ccc9dca8-bfef-4184-943a-8c90531adf0a"
    }
   },
   "outputs": [
    {
     "data": {
      "text/html": [
       "<div>\n",
       "<style scoped>\n",
       "    .dataframe tbody tr th:only-of-type {\n",
       "        vertical-align: middle;\n",
       "    }\n",
       "\n",
       "    .dataframe tbody tr th {\n",
       "        vertical-align: top;\n",
       "    }\n",
       "\n",
       "    .dataframe thead th {\n",
       "        text-align: right;\n",
       "    }\n",
       "</style>\n",
       "<table border=\"1\" class=\"dataframe\">\n",
       "  <thead>\n",
       "    <tr style=\"text-align: right;\">\n",
       "      <th></th>\n",
       "      <th>patient_id</th>\n",
       "      <th>appointment_id</th>\n",
       "      <th>age</th>\n",
       "      <th>scholarship</th>\n",
       "      <th>hypertension</th>\n",
       "      <th>diabetes</th>\n",
       "      <th>alcoholism</th>\n",
       "      <th>handicap</th>\n",
       "      <th>sms_received</th>\n",
       "    </tr>\n",
       "  </thead>\n",
       "  <tbody>\n",
       "    <tr>\n",
       "      <th>count</th>\n",
       "      <td>1.105270e+05</td>\n",
       "      <td>1.105270e+05</td>\n",
       "      <td>110527.000000</td>\n",
       "      <td>110527.000000</td>\n",
       "      <td>110527.000000</td>\n",
       "      <td>110527.000000</td>\n",
       "      <td>110527.000000</td>\n",
       "      <td>110527.000000</td>\n",
       "      <td>110527.000000</td>\n",
       "    </tr>\n",
       "    <tr>\n",
       "      <th>mean</th>\n",
       "      <td>1.474963e+14</td>\n",
       "      <td>5.675305e+06</td>\n",
       "      <td>37.088874</td>\n",
       "      <td>0.098266</td>\n",
       "      <td>0.197246</td>\n",
       "      <td>0.071865</td>\n",
       "      <td>0.030400</td>\n",
       "      <td>0.022248</td>\n",
       "      <td>0.321026</td>\n",
       "    </tr>\n",
       "    <tr>\n",
       "      <th>std</th>\n",
       "      <td>2.560949e+14</td>\n",
       "      <td>7.129575e+04</td>\n",
       "      <td>23.110205</td>\n",
       "      <td>0.297675</td>\n",
       "      <td>0.397921</td>\n",
       "      <td>0.258265</td>\n",
       "      <td>0.171686</td>\n",
       "      <td>0.161543</td>\n",
       "      <td>0.466873</td>\n",
       "    </tr>\n",
       "    <tr>\n",
       "      <th>min</th>\n",
       "      <td>3.921784e+04</td>\n",
       "      <td>5.030230e+06</td>\n",
       "      <td>-1.000000</td>\n",
       "      <td>0.000000</td>\n",
       "      <td>0.000000</td>\n",
       "      <td>0.000000</td>\n",
       "      <td>0.000000</td>\n",
       "      <td>0.000000</td>\n",
       "      <td>0.000000</td>\n",
       "    </tr>\n",
       "    <tr>\n",
       "      <th>25%</th>\n",
       "      <td>4.172614e+12</td>\n",
       "      <td>5.640286e+06</td>\n",
       "      <td>18.000000</td>\n",
       "      <td>0.000000</td>\n",
       "      <td>0.000000</td>\n",
       "      <td>0.000000</td>\n",
       "      <td>0.000000</td>\n",
       "      <td>0.000000</td>\n",
       "      <td>0.000000</td>\n",
       "    </tr>\n",
       "    <tr>\n",
       "      <th>50%</th>\n",
       "      <td>3.173184e+13</td>\n",
       "      <td>5.680573e+06</td>\n",
       "      <td>37.000000</td>\n",
       "      <td>0.000000</td>\n",
       "      <td>0.000000</td>\n",
       "      <td>0.000000</td>\n",
       "      <td>0.000000</td>\n",
       "      <td>0.000000</td>\n",
       "      <td>0.000000</td>\n",
       "    </tr>\n",
       "    <tr>\n",
       "      <th>75%</th>\n",
       "      <td>9.439172e+13</td>\n",
       "      <td>5.725524e+06</td>\n",
       "      <td>55.000000</td>\n",
       "      <td>0.000000</td>\n",
       "      <td>0.000000</td>\n",
       "      <td>0.000000</td>\n",
       "      <td>0.000000</td>\n",
       "      <td>0.000000</td>\n",
       "      <td>1.000000</td>\n",
       "    </tr>\n",
       "    <tr>\n",
       "      <th>max</th>\n",
       "      <td>9.999816e+14</td>\n",
       "      <td>5.790484e+06</td>\n",
       "      <td>115.000000</td>\n",
       "      <td>1.000000</td>\n",
       "      <td>1.000000</td>\n",
       "      <td>1.000000</td>\n",
       "      <td>1.000000</td>\n",
       "      <td>4.000000</td>\n",
       "      <td>1.000000</td>\n",
       "    </tr>\n",
       "  </tbody>\n",
       "</table>\n",
       "</div>"
      ],
      "text/plain": [
       "         patient_id  appointment_id            age    scholarship  \\\n",
       "count  1.105270e+05    1.105270e+05  110527.000000  110527.000000   \n",
       "mean   1.474963e+14    5.675305e+06      37.088874       0.098266   \n",
       "std    2.560949e+14    7.129575e+04      23.110205       0.297675   \n",
       "min    3.921784e+04    5.030230e+06      -1.000000       0.000000   \n",
       "25%    4.172614e+12    5.640286e+06      18.000000       0.000000   \n",
       "50%    3.173184e+13    5.680573e+06      37.000000       0.000000   \n",
       "75%    9.439172e+13    5.725524e+06      55.000000       0.000000   \n",
       "max    9.999816e+14    5.790484e+06     115.000000       1.000000   \n",
       "\n",
       "        hypertension       diabetes     alcoholism       handicap  \\\n",
       "count  110527.000000  110527.000000  110527.000000  110527.000000   \n",
       "mean        0.197246       0.071865       0.030400       0.022248   \n",
       "std         0.397921       0.258265       0.171686       0.161543   \n",
       "min         0.000000       0.000000       0.000000       0.000000   \n",
       "25%         0.000000       0.000000       0.000000       0.000000   \n",
       "50%         0.000000       0.000000       0.000000       0.000000   \n",
       "75%         0.000000       0.000000       0.000000       0.000000   \n",
       "max         1.000000       1.000000       1.000000       4.000000   \n",
       "\n",
       "        sms_received  \n",
       "count  110527.000000  \n",
       "mean        0.321026  \n",
       "std         0.466873  \n",
       "min         0.000000  \n",
       "25%         0.000000  \n",
       "50%         0.000000  \n",
       "75%         1.000000  \n",
       "max         1.000000  "
      ]
     },
     "execution_count": 4,
     "metadata": {},
     "output_type": "execute_result"
    }
   ],
   "source": [
    "df.describe()"
   ]
  },
  {
   "cell_type": "markdown",
   "metadata": {
    "nbpresent": {
     "id": "a71567b5-ff4e-4c42-ac24-e28b5e15c158"
    }
   },
   "source": [
    "- `age` has outliers. What does '-1' mean? Does '0' mean babies?"
   ]
  },
  {
   "cell_type": "code",
   "execution_count": 5,
   "metadata": {
    "nbpresent": {
     "id": "1511048a-d3e4-4e5f-9bc7-dde0d2a8e0bd"
    }
   },
   "outputs": [
    {
     "data": {
      "text/plain": [
       "patient_id          62299\n",
       "appointment_id     110527\n",
       "gender                  2\n",
       "scheduled_day      103549\n",
       "appointment_day        27\n",
       "age                   104\n",
       "neighbourhood          81\n",
       "scholarship             2\n",
       "hypertension            2\n",
       "diabetes                2\n",
       "alcoholism              2\n",
       "handicap                5\n",
       "sms_received            2\n",
       "no_show                 2\n",
       "dtype: int64"
      ]
     },
     "execution_count": 5,
     "metadata": {},
     "output_type": "execute_result"
    }
   ],
   "source": [
    "df.nunique()"
   ]
  },
  {
   "cell_type": "code",
   "execution_count": 6,
   "metadata": {
    "nbpresent": {
     "id": "b4dc7e28-6808-44d3-84a3-3089bbb80aef"
    }
   },
   "outputs": [
    {
     "name": "stdout",
     "output_type": "stream",
     "text": [
      "<class 'pandas.core.frame.DataFrame'>\n",
      "RangeIndex: 110527 entries, 0 to 110526\n",
      "Data columns (total 14 columns):\n",
      "patient_id         110527 non-null float64\n",
      "appointment_id     110527 non-null int64\n",
      "gender             110527 non-null object\n",
      "scheduled_day      110527 non-null object\n",
      "appointment_day    110527 non-null object\n",
      "age                110527 non-null int64\n",
      "neighbourhood      110527 non-null object\n",
      "scholarship        110527 non-null int64\n",
      "hypertension       110527 non-null int64\n",
      "diabetes           110527 non-null int64\n",
      "alcoholism         110527 non-null int64\n",
      "handicap           110527 non-null int64\n",
      "sms_received       110527 non-null int64\n",
      "no_show            110527 non-null object\n",
      "dtypes: float64(1), int64(8), object(5)\n",
      "memory usage: 11.8+ MB\n"
     ]
    }
   ],
   "source": [
    "df.info()"
   ]
  },
  {
   "cell_type": "markdown",
   "metadata": {
    "nbpresent": {
     "id": "c1f29074-5541-4774-af1c-7cfd0746bc61"
    }
   },
   "source": []
  },
  {
   "cell_type": "markdown",
   "metadata": {
    "nbpresent": {
     "id": "1976ef15-c3ff-47d7-aec6-16bbfa9bf719"
    }
   },
   "source": [
    "- `patient_id` is not distinct. I'll look into it in more detail later.\n",
    "- `appointment_id` is distinct.\n",
    "- Why does `handcap` have 5 unique values? The provider of this dataset says it is a boolean (True or False).\n",
    "- Other boolean features have only two unique values."
   ]
  },
  {
   "cell_type": "code",
   "execution_count": 7,
   "metadata": {
    "nbpresent": {
     "id": "387ed9d6-5b93-4c3f-aa96-105d03355120"
    }
   },
   "outputs": [
    {
     "data": {
      "text/plain": [
       "0"
      ]
     },
     "execution_count": 7,
     "metadata": {},
     "output_type": "execute_result"
    }
   ],
   "source": [
    "df.duplicated().sum()"
   ]
  },
  {
   "cell_type": "markdown",
   "metadata": {
    "nbpresent": {
     "id": "1cdec784-94a2-45a5-a53a-bf8e2e12de2d"
    }
   },
   "source": [
    "> **Tip**: You should _not_ perform too many operations in each cell. Create cells freely to explore your data. One option that you can take with this project is to do a lot of explorations in an initial notebook. These don't have to be organized, but make sure you use enough comments to understand the purpose of each code cell. Then, after you're done with your analysis, create a duplicate notebook where you will trim the excess and organize your steps so that you have a flowing, cohesive report.\n",
    "\n",
    "> **Tip**: Make sure that you keep your reader informed on the steps that you are taking in your investigation. Follow every code cell, or every set of related code cells, with a markdown cell to describe to the reader what was found in the preceding cell(s). Try to make it so that the reader can then understand what they will be seeing in the following cell(s).\n",
    "\n",
    "# Data Cleaning"
   ]
  },
  {
   "cell_type": "markdown",
   "metadata": {
    "nbpresent": {
     "id": "10257266-6882-496e-bc94-ec2789ea4ca9"
    }
   },
   "source": []
  },
  {
   "cell_type": "markdown",
   "metadata": {
    "nbpresent": {
     "id": "f47b272c-c15a-4636-9f1b-3b512a27f4fd"
    }
   },
   "source": [
    "### Convert `patient_id` to int "
   ]
  },
  {
   "cell_type": "code",
   "execution_count": 8,
   "metadata": {
    "nbpresent": {
     "id": "c39ab6b4-d7ea-47f4-aa5b-2f98929f29f1"
    }
   },
   "outputs": [],
   "source": [
    "df['patient_id'] = df['patient_id'].astype(int)"
   ]
  },
  {
   "cell_type": "markdown",
   "metadata": {
    "nbpresent": {
     "id": "4aacebf3-eb64-462b-b534-c52600bdb516"
    }
   },
   "source": [
    "### Remove negative `age`"
   ]
  },
  {
   "cell_type": "code",
   "execution_count": 9,
   "metadata": {
    "nbpresent": {
     "id": "3d3d4c09-6fb9-45b5-bab1-1b99ff277f35"
    }
   },
   "outputs": [
    {
     "name": "stdout",
     "output_type": "stream",
     "text": [
      "[ -1   0   1   2   3   4   5   6   7   8   9  10  11  12  13  14  15  16\n",
      "  17  18  19  20  21  22  23  24  25  26  27  28  29  30  31  32  33  34\n",
      "  35  36  37  38  39  40  41  42  43  44  45  46  47  48  49  50  51  52\n",
      "  53  54  55  56  57  58  59  60  61  62  63  64  65  66  67  68  69  70\n",
      "  71  72  73  74  75  76  77  78  79  80  81  82  83  84  85  86  87  88\n",
      "  89  90  91  92  93  94  95  96  97  98  99 100 102 115]\n"
     ]
    }
   ],
   "source": [
    "print(np.sort(df['age'].unique()))"
   ]
  },
  {
   "cell_type": "code",
   "execution_count": 10,
   "metadata": {
    "nbpresent": {
     "id": "fba92c9d-0c95-444d-9429-bb6645daa559"
    }
   },
   "outputs": [],
   "source": [
    "df = df[df['age'] >= 0]"
   ]
  },
  {
   "cell_type": "markdown",
   "metadata": {
    "nbpresent": {
     "id": "6a6add3b-4982-47bb-a8e4-23ef7c5d5953"
    }
   },
   "source": [
    "### Covert `scheduled_day` and `appointment_day` to datetime "
   ]
  },
  {
   "cell_type": "markdown",
   "metadata": {
    "nbpresent": {
     "id": "fe8d3e55-1ec5-4a24-8a00-6be9e7393f43"
    }
   },
   "source": [
    "- `AppointmentID` is distinct but `PatientId` isn't"
   ]
  },
  {
   "cell_type": "code",
   "execution_count": 11,
   "metadata": {
    "nbpresent": {
     "id": "785449b7-9504-41c9-965f-4d8d6bd6d650"
    }
   },
   "outputs": [
    {
     "data": {
      "text/plain": [
       "822145925426128    88\n",
       "99637671331        84\n",
       "26886125921145     70\n",
       "33534783483176     65\n",
       "258424392677       62\n",
       "Name: patient_id, dtype: int64"
      ]
     },
     "execution_count": 11,
     "metadata": {},
     "output_type": "execute_result"
    }
   ],
   "source": [
    "df['patient_id'].value_counts().sort_values(ascending=False).head()"
   ]
  },
  {
   "cell_type": "code",
   "execution_count": 12,
   "metadata": {
    "nbpresent": {
     "id": "466c1358-0d2c-47af-9a60-9d707a575f5a"
    }
   },
   "outputs": [],
   "source": [
    "df['scheduled_day'] = pd.to_datetime(df['scheduled_day'])\n",
    "df['appointment_day'] = pd.to_datetime(df['appointment_day'])"
   ]
  },
  {
   "cell_type": "markdown",
   "metadata": {
    "nbpresent": {
     "id": "5a2f6a41-5497-48cd-80ae-fe128c4dad52"
    }
   },
   "source": [
    "### Check if there are rows whose `appointment_day` is before `scheduled_day`"
   ]
  },
  {
   "cell_type": "code",
   "execution_count": 13,
   "metadata": {
    "nbpresent": {
     "id": "b467c0b2-eaae-404d-addb-dff324e33253"
    }
   },
   "outputs": [
    {
     "name": "stdout",
     "output_type": "stream",
     "text": [
      "110526\n",
      "110521\n"
     ]
    }
   ],
   "source": [
    "wait_days = (df['appointment_day'].dt.date - df['scheduled_day'].dt.date).dt.days\n",
    "insert_col = df.columns.get_loc('appointment_day') + 1\n",
    "df.insert(insert_col, 'days_to_app', wait_days)\n",
    "print(len(df.index))\n",
    "df = df[df['days_to_app'] >= 0]\n",
    "print(len(df.index))"
   ]
  },
  {
   "cell_type": "markdown",
   "metadata": {
    "nbpresent": {
     "id": "cd644551-9d3f-46b5-bee9-1604d4abf3a7"
    }
   },
   "source": [
    "#### Investigation of  `patient_id`"
   ]
  },
  {
   "cell_type": "code",
   "execution_count": 14,
   "metadata": {
    "nbpresent": {
     "id": "6bd0ae1a-c669-4f98-9867-1e85132e8ef4"
    }
   },
   "outputs": [
    {
     "data": {
      "text/plain": [
       "822145925426128    88\n",
       "99637671331        84\n",
       "26886125921145     70\n",
       "33534783483176     65\n",
       "871374938638855    62\n",
       "Name: patient_id, dtype: int64"
      ]
     },
     "execution_count": 14,
     "metadata": {},
     "output_type": "execute_result"
    }
   ],
   "source": [
    "df['patient_id'].value_counts().sort_values(ascending=False).head()"
   ]
  },
  {
   "cell_type": "code",
   "execution_count": 15,
   "metadata": {
    "nbpresent": {
     "id": "a2c76eb3-48c4-44c4-b31d-66a87fe0e968"
    }
   },
   "outputs": [
    {
     "data": {
      "text/plain": [
       "2016-05-13    7\n",
       "2016-06-01    6\n",
       "2016-05-25    5\n",
       "2016-06-08    5\n",
       "2016-05-20    5\n",
       "Name: scheduled_day, dtype: int64"
      ]
     },
     "execution_count": 15,
     "metadata": {},
     "output_type": "execute_result"
    }
   ],
   "source": [
    "df[df['patient_id'] == 822145925426128]['scheduled_day'].dt.date.value_counts().head()"
   ]
  },
  {
   "cell_type": "code",
   "execution_count": 16,
   "metadata": {
    "nbpresent": {
     "id": "59debf9b-da32-4c0d-b1ea-fbadb094c29c"
    }
   },
   "outputs": [
    {
     "data": {
      "text/html": [
       "<div>\n",
       "<style scoped>\n",
       "    .dataframe tbody tr th:only-of-type {\n",
       "        vertical-align: middle;\n",
       "    }\n",
       "\n",
       "    .dataframe tbody tr th {\n",
       "        vertical-align: top;\n",
       "    }\n",
       "\n",
       "    .dataframe thead th {\n",
       "        text-align: right;\n",
       "    }\n",
       "</style>\n",
       "<table border=\"1\" class=\"dataframe\">\n",
       "  <thead>\n",
       "    <tr style=\"text-align: right;\">\n",
       "      <th></th>\n",
       "      <th>patient_id</th>\n",
       "      <th>appointment_id</th>\n",
       "      <th>gender</th>\n",
       "      <th>scheduled_day</th>\n",
       "      <th>appointment_day</th>\n",
       "      <th>days_to_app</th>\n",
       "      <th>age</th>\n",
       "      <th>neighbourhood</th>\n",
       "      <th>scholarship</th>\n",
       "      <th>hypertension</th>\n",
       "      <th>diabetes</th>\n",
       "      <th>alcoholism</th>\n",
       "      <th>handicap</th>\n",
       "      <th>sms_received</th>\n",
       "      <th>no_show</th>\n",
       "    </tr>\n",
       "  </thead>\n",
       "  <tbody>\n",
       "    <tr>\n",
       "      <th>8850</th>\n",
       "      <td>822145925426128</td>\n",
       "      <td>5694863</td>\n",
       "      <td>M</td>\n",
       "      <td>2016-05-13 09:04:50</td>\n",
       "      <td>2016-05-13</td>\n",
       "      <td>0</td>\n",
       "      <td>38</td>\n",
       "      <td>REDENÇÃO</td>\n",
       "      <td>0</td>\n",
       "      <td>0</td>\n",
       "      <td>0</td>\n",
       "      <td>0</td>\n",
       "      <td>0</td>\n",
       "      <td>0</td>\n",
       "      <td>No</td>\n",
       "    </tr>\n",
       "    <tr>\n",
       "      <th>31572</th>\n",
       "      <td>822145925426128</td>\n",
       "      <td>5695919</td>\n",
       "      <td>M</td>\n",
       "      <td>2016-05-13 11:15:37</td>\n",
       "      <td>2016-05-13</td>\n",
       "      <td>0</td>\n",
       "      <td>38</td>\n",
       "      <td>REDENÇÃO</td>\n",
       "      <td>0</td>\n",
       "      <td>0</td>\n",
       "      <td>0</td>\n",
       "      <td>0</td>\n",
       "      <td>0</td>\n",
       "      <td>0</td>\n",
       "      <td>No</td>\n",
       "    </tr>\n",
       "    <tr>\n",
       "      <th>7677</th>\n",
       "      <td>822145925426128</td>\n",
       "      <td>5696169</td>\n",
       "      <td>M</td>\n",
       "      <td>2016-05-13 11:53:41</td>\n",
       "      <td>2016-05-13</td>\n",
       "      <td>0</td>\n",
       "      <td>38</td>\n",
       "      <td>REDENÇÃO</td>\n",
       "      <td>0</td>\n",
       "      <td>0</td>\n",
       "      <td>0</td>\n",
       "      <td>0</td>\n",
       "      <td>0</td>\n",
       "      <td>0</td>\n",
       "      <td>No</td>\n",
       "    </tr>\n",
       "    <tr>\n",
       "      <th>7202</th>\n",
       "      <td>822145925426128</td>\n",
       "      <td>5696852</td>\n",
       "      <td>M</td>\n",
       "      <td>2016-05-13 14:26:40</td>\n",
       "      <td>2016-05-16</td>\n",
       "      <td>3</td>\n",
       "      <td>38</td>\n",
       "      <td>REDENÇÃO</td>\n",
       "      <td>0</td>\n",
       "      <td>0</td>\n",
       "      <td>0</td>\n",
       "      <td>0</td>\n",
       "      <td>0</td>\n",
       "      <td>0</td>\n",
       "      <td>No</td>\n",
       "    </tr>\n",
       "    <tr>\n",
       "      <th>109185</th>\n",
       "      <td>822145925426128</td>\n",
       "      <td>5696863</td>\n",
       "      <td>M</td>\n",
       "      <td>2016-05-13 14:28:49</td>\n",
       "      <td>2016-06-02</td>\n",
       "      <td>20</td>\n",
       "      <td>38</td>\n",
       "      <td>REDENÇÃO</td>\n",
       "      <td>0</td>\n",
       "      <td>0</td>\n",
       "      <td>0</td>\n",
       "      <td>0</td>\n",
       "      <td>0</td>\n",
       "      <td>1</td>\n",
       "      <td>No</td>\n",
       "    </tr>\n",
       "    <tr>\n",
       "      <th>7199</th>\n",
       "      <td>822145925426128</td>\n",
       "      <td>5697449</td>\n",
       "      <td>M</td>\n",
       "      <td>2016-05-13 15:57:00</td>\n",
       "      <td>2016-05-20</td>\n",
       "      <td>7</td>\n",
       "      <td>38</td>\n",
       "      <td>REDENÇÃO</td>\n",
       "      <td>0</td>\n",
       "      <td>0</td>\n",
       "      <td>0</td>\n",
       "      <td>0</td>\n",
       "      <td>0</td>\n",
       "      <td>0</td>\n",
       "      <td>No</td>\n",
       "    </tr>\n",
       "    <tr>\n",
       "      <th>25515</th>\n",
       "      <td>822145925426128</td>\n",
       "      <td>5697763</td>\n",
       "      <td>M</td>\n",
       "      <td>2016-05-13 18:09:14</td>\n",
       "      <td>2016-05-20</td>\n",
       "      <td>7</td>\n",
       "      <td>38</td>\n",
       "      <td>REDENÇÃO</td>\n",
       "      <td>0</td>\n",
       "      <td>0</td>\n",
       "      <td>0</td>\n",
       "      <td>0</td>\n",
       "      <td>0</td>\n",
       "      <td>0</td>\n",
       "      <td>No</td>\n",
       "    </tr>\n",
       "  </tbody>\n",
       "</table>\n",
       "</div>"
      ],
      "text/plain": [
       "             patient_id  appointment_id gender       scheduled_day  \\\n",
       "8850    822145925426128         5694863      M 2016-05-13 09:04:50   \n",
       "31572   822145925426128         5695919      M 2016-05-13 11:15:37   \n",
       "7677    822145925426128         5696169      M 2016-05-13 11:53:41   \n",
       "7202    822145925426128         5696852      M 2016-05-13 14:26:40   \n",
       "109185  822145925426128         5696863      M 2016-05-13 14:28:49   \n",
       "7199    822145925426128         5697449      M 2016-05-13 15:57:00   \n",
       "25515   822145925426128         5697763      M 2016-05-13 18:09:14   \n",
       "\n",
       "       appointment_day  days_to_app  age neighbourhood  scholarship  \\\n",
       "8850        2016-05-13            0   38      REDENÇÃO            0   \n",
       "31572       2016-05-13            0   38      REDENÇÃO            0   \n",
       "7677        2016-05-13            0   38      REDENÇÃO            0   \n",
       "7202        2016-05-16            3   38      REDENÇÃO            0   \n",
       "109185      2016-06-02           20   38      REDENÇÃO            0   \n",
       "7199        2016-05-20            7   38      REDENÇÃO            0   \n",
       "25515       2016-05-20            7   38      REDENÇÃO            0   \n",
       "\n",
       "        hypertension  diabetes  alcoholism  handicap  sms_received no_show  \n",
       "8850               0         0           0         0             0      No  \n",
       "31572              0         0           0         0             0      No  \n",
       "7677               0         0           0         0             0      No  \n",
       "7202               0         0           0         0             0      No  \n",
       "109185             0         0           0         0             1      No  \n",
       "7199               0         0           0         0             0      No  \n",
       "25515              0         0           0         0             0      No  "
      ]
     },
     "execution_count": 16,
     "metadata": {},
     "output_type": "execute_result"
    }
   ],
   "source": [
    "df[(df['patient_id'] == 822145925426128) & (df['scheduled_day'].dt.day == 13)].sort_values('scheduled_day')"
   ]
  },
  {
   "cell_type": "markdown",
   "metadata": {
    "nbpresent": {
     "id": "241e3007-3123-4457-88da-9edf70b6cc57"
    }
   },
   "source": [
    "This patient made 7 appointments and visited the hospital 3 times on 2016-05-13. This isn't impossible, but how was `scheduled_day` determined?\n",
    "\n",
    "I'll take a look at one more person."
   ]
  },
  {
   "cell_type": "code",
   "execution_count": 17,
   "metadata": {
    "nbpresent": {
     "id": "ca5144dd-e1d9-4672-913b-d1093307dfc0"
    }
   },
   "outputs": [
    {
     "data": {
      "text/plain": [
       "2016-06-08    6\n",
       "2016-06-01    6\n",
       "2016-05-09    6\n",
       "2016-05-19    5\n",
       "2016-05-30    5\n",
       "Name: scheduled_day, dtype: int64"
      ]
     },
     "execution_count": 17,
     "metadata": {},
     "output_type": "execute_result"
    }
   ],
   "source": [
    "df[df['patient_id'] == 99637671331]['scheduled_day'].dt.date.value_counts().head()"
   ]
  },
  {
   "cell_type": "code",
   "execution_count": 18,
   "metadata": {
    "nbpresent": {
     "id": "2e447b82-fd0a-4b98-a01a-085b94b94dc9"
    }
   },
   "outputs": [
    {
     "data": {
      "text/html": [
       "<div>\n",
       "<style scoped>\n",
       "    .dataframe tbody tr th:only-of-type {\n",
       "        vertical-align: middle;\n",
       "    }\n",
       "\n",
       "    .dataframe tbody tr th {\n",
       "        vertical-align: top;\n",
       "    }\n",
       "\n",
       "    .dataframe thead th {\n",
       "        text-align: right;\n",
       "    }\n",
       "</style>\n",
       "<table border=\"1\" class=\"dataframe\">\n",
       "  <thead>\n",
       "    <tr style=\"text-align: right;\">\n",
       "      <th></th>\n",
       "      <th>patient_id</th>\n",
       "      <th>appointment_id</th>\n",
       "      <th>gender</th>\n",
       "      <th>scheduled_day</th>\n",
       "      <th>appointment_day</th>\n",
       "      <th>days_to_app</th>\n",
       "      <th>age</th>\n",
       "      <th>neighbourhood</th>\n",
       "      <th>scholarship</th>\n",
       "      <th>hypertension</th>\n",
       "      <th>diabetes</th>\n",
       "      <th>alcoholism</th>\n",
       "      <th>handicap</th>\n",
       "      <th>sms_received</th>\n",
       "      <th>no_show</th>\n",
       "    </tr>\n",
       "  </thead>\n",
       "  <tbody>\n",
       "    <tr>\n",
       "      <th>109241</th>\n",
       "      <td>99637671331</td>\n",
       "      <td>5756852</td>\n",
       "      <td>M</td>\n",
       "      <td>2016-06-01 08:43:24</td>\n",
       "      <td>2016-06-01</td>\n",
       "      <td>0</td>\n",
       "      <td>46</td>\n",
       "      <td>JABOUR</td>\n",
       "      <td>0</td>\n",
       "      <td>0</td>\n",
       "      <td>0</td>\n",
       "      <td>0</td>\n",
       "      <td>0</td>\n",
       "      <td>0</td>\n",
       "      <td>No</td>\n",
       "    </tr>\n",
       "    <tr>\n",
       "      <th>108824</th>\n",
       "      <td>99637671331</td>\n",
       "      <td>5759101</td>\n",
       "      <td>M</td>\n",
       "      <td>2016-06-01 11:46:29</td>\n",
       "      <td>2016-06-01</td>\n",
       "      <td>0</td>\n",
       "      <td>46</td>\n",
       "      <td>JABOUR</td>\n",
       "      <td>0</td>\n",
       "      <td>0</td>\n",
       "      <td>0</td>\n",
       "      <td>0</td>\n",
       "      <td>0</td>\n",
       "      <td>0</td>\n",
       "      <td>No</td>\n",
       "    </tr>\n",
       "    <tr>\n",
       "      <th>108793</th>\n",
       "      <td>99637671331</td>\n",
       "      <td>5759132</td>\n",
       "      <td>M</td>\n",
       "      <td>2016-06-01 11:50:16</td>\n",
       "      <td>2016-06-01</td>\n",
       "      <td>0</td>\n",
       "      <td>46</td>\n",
       "      <td>JABOUR</td>\n",
       "      <td>0</td>\n",
       "      <td>0</td>\n",
       "      <td>0</td>\n",
       "      <td>0</td>\n",
       "      <td>0</td>\n",
       "      <td>0</td>\n",
       "      <td>No</td>\n",
       "    </tr>\n",
       "    <tr>\n",
       "      <th>98834</th>\n",
       "      <td>99637671331</td>\n",
       "      <td>5760275</td>\n",
       "      <td>M</td>\n",
       "      <td>2016-06-01 14:34:09</td>\n",
       "      <td>2016-06-01</td>\n",
       "      <td>0</td>\n",
       "      <td>46</td>\n",
       "      <td>JABOUR</td>\n",
       "      <td>0</td>\n",
       "      <td>0</td>\n",
       "      <td>0</td>\n",
       "      <td>0</td>\n",
       "      <td>0</td>\n",
       "      <td>0</td>\n",
       "      <td>No</td>\n",
       "    </tr>\n",
       "    <tr>\n",
       "      <th>108756</th>\n",
       "      <td>99637671331</td>\n",
       "      <td>5760533</td>\n",
       "      <td>M</td>\n",
       "      <td>2016-06-01 15:01:01</td>\n",
       "      <td>2016-06-01</td>\n",
       "      <td>0</td>\n",
       "      <td>46</td>\n",
       "      <td>JABOUR</td>\n",
       "      <td>0</td>\n",
       "      <td>0</td>\n",
       "      <td>0</td>\n",
       "      <td>0</td>\n",
       "      <td>0</td>\n",
       "      <td>0</td>\n",
       "      <td>No</td>\n",
       "    </tr>\n",
       "    <tr>\n",
       "      <th>109118</th>\n",
       "      <td>99637671331</td>\n",
       "      <td>5761324</td>\n",
       "      <td>M</td>\n",
       "      <td>2016-06-01 17:17:19</td>\n",
       "      <td>2016-06-01</td>\n",
       "      <td>0</td>\n",
       "      <td>46</td>\n",
       "      <td>JABOUR</td>\n",
       "      <td>0</td>\n",
       "      <td>0</td>\n",
       "      <td>0</td>\n",
       "      <td>0</td>\n",
       "      <td>0</td>\n",
       "      <td>0</td>\n",
       "      <td>No</td>\n",
       "    </tr>\n",
       "  </tbody>\n",
       "</table>\n",
       "</div>"
      ],
      "text/plain": [
       "         patient_id  appointment_id gender       scheduled_day  \\\n",
       "109241  99637671331         5756852      M 2016-06-01 08:43:24   \n",
       "108824  99637671331         5759101      M 2016-06-01 11:46:29   \n",
       "108793  99637671331         5759132      M 2016-06-01 11:50:16   \n",
       "98834   99637671331         5760275      M 2016-06-01 14:34:09   \n",
       "108756  99637671331         5760533      M 2016-06-01 15:01:01   \n",
       "109118  99637671331         5761324      M 2016-06-01 17:17:19   \n",
       "\n",
       "       appointment_day  days_to_app  age neighbourhood  scholarship  \\\n",
       "109241      2016-06-01            0   46        JABOUR            0   \n",
       "108824      2016-06-01            0   46        JABOUR            0   \n",
       "108793      2016-06-01            0   46        JABOUR            0   \n",
       "98834       2016-06-01            0   46        JABOUR            0   \n",
       "108756      2016-06-01            0   46        JABOUR            0   \n",
       "109118      2016-06-01            0   46        JABOUR            0   \n",
       "\n",
       "        hypertension  diabetes  alcoholism  handicap  sms_received no_show  \n",
       "109241             0         0           0         0             0      No  \n",
       "108824             0         0           0         0             0      No  \n",
       "108793             0         0           0         0             0      No  \n",
       "98834              0         0           0         0             0      No  \n",
       "108756             0         0           0         0             0      No  \n",
       "109118             0         0           0         0             0      No  "
      ]
     },
     "execution_count": 18,
     "metadata": {},
     "output_type": "execute_result"
    }
   ],
   "source": [
    "df[(df['patient_id'] == 99637671331) & (df['scheduled_day'].dt.day == 1)].sort_values('scheduled_day')"
   ]
  },
  {
   "cell_type": "markdown",
   "metadata": {
    "nbpresent": {
     "id": "a24ba0bc-d052-4498-adbe-3fa7b6f4f78e"
    }
   },
   "source": [
    "This patient visited the hostpital 6 times in a day, but if the hospital counts consecutive visits to different departments, this could be possible."
   ]
  },
  {
   "cell_type": "markdown",
   "metadata": {
    "nbpresent": {
     "id": "43667eec-e456-4359-bf69-706f5ded0554"
    }
   },
   "source": [
    "### Check the cleaned dataset"
   ]
  },
  {
   "cell_type": "code",
   "execution_count": 19,
   "metadata": {
    "nbpresent": {
     "id": "67d0fa48-665a-4d97-8a17-6c6d2e1ee0cf"
    }
   },
   "outputs": [
    {
     "data": {
      "text/html": [
       "<div>\n",
       "<style scoped>\n",
       "    .dataframe tbody tr th:only-of-type {\n",
       "        vertical-align: middle;\n",
       "    }\n",
       "\n",
       "    .dataframe tbody tr th {\n",
       "        vertical-align: top;\n",
       "    }\n",
       "\n",
       "    .dataframe thead th {\n",
       "        text-align: right;\n",
       "    }\n",
       "</style>\n",
       "<table border=\"1\" class=\"dataframe\">\n",
       "  <thead>\n",
       "    <tr style=\"text-align: right;\">\n",
       "      <th></th>\n",
       "      <th>patient_id</th>\n",
       "      <th>appointment_id</th>\n",
       "      <th>gender</th>\n",
       "      <th>scheduled_day</th>\n",
       "      <th>appointment_day</th>\n",
       "      <th>days_to_app</th>\n",
       "      <th>age</th>\n",
       "      <th>neighbourhood</th>\n",
       "      <th>scholarship</th>\n",
       "      <th>hypertension</th>\n",
       "      <th>diabetes</th>\n",
       "      <th>alcoholism</th>\n",
       "      <th>handicap</th>\n",
       "      <th>sms_received</th>\n",
       "      <th>no_show</th>\n",
       "    </tr>\n",
       "  </thead>\n",
       "  <tbody>\n",
       "    <tr>\n",
       "      <th>0</th>\n",
       "      <td>29872499824296</td>\n",
       "      <td>5642903</td>\n",
       "      <td>F</td>\n",
       "      <td>2016-04-29 18:38:08</td>\n",
       "      <td>2016-04-29</td>\n",
       "      <td>0</td>\n",
       "      <td>62</td>\n",
       "      <td>JARDIM DA PENHA</td>\n",
       "      <td>0</td>\n",
       "      <td>1</td>\n",
       "      <td>0</td>\n",
       "      <td>0</td>\n",
       "      <td>0</td>\n",
       "      <td>0</td>\n",
       "      <td>No</td>\n",
       "    </tr>\n",
       "    <tr>\n",
       "      <th>1</th>\n",
       "      <td>558997776694438</td>\n",
       "      <td>5642503</td>\n",
       "      <td>M</td>\n",
       "      <td>2016-04-29 16:08:27</td>\n",
       "      <td>2016-04-29</td>\n",
       "      <td>0</td>\n",
       "      <td>56</td>\n",
       "      <td>JARDIM DA PENHA</td>\n",
       "      <td>0</td>\n",
       "      <td>0</td>\n",
       "      <td>0</td>\n",
       "      <td>0</td>\n",
       "      <td>0</td>\n",
       "      <td>0</td>\n",
       "      <td>No</td>\n",
       "    </tr>\n",
       "    <tr>\n",
       "      <th>2</th>\n",
       "      <td>4262962299951</td>\n",
       "      <td>5642549</td>\n",
       "      <td>F</td>\n",
       "      <td>2016-04-29 16:19:04</td>\n",
       "      <td>2016-04-29</td>\n",
       "      <td>0</td>\n",
       "      <td>62</td>\n",
       "      <td>MATA DA PRAIA</td>\n",
       "      <td>0</td>\n",
       "      <td>0</td>\n",
       "      <td>0</td>\n",
       "      <td>0</td>\n",
       "      <td>0</td>\n",
       "      <td>0</td>\n",
       "      <td>No</td>\n",
       "    </tr>\n",
       "    <tr>\n",
       "      <th>3</th>\n",
       "      <td>867951213174</td>\n",
       "      <td>5642828</td>\n",
       "      <td>F</td>\n",
       "      <td>2016-04-29 17:29:31</td>\n",
       "      <td>2016-04-29</td>\n",
       "      <td>0</td>\n",
       "      <td>8</td>\n",
       "      <td>PONTAL DE CAMBURI</td>\n",
       "      <td>0</td>\n",
       "      <td>0</td>\n",
       "      <td>0</td>\n",
       "      <td>0</td>\n",
       "      <td>0</td>\n",
       "      <td>0</td>\n",
       "      <td>No</td>\n",
       "    </tr>\n",
       "    <tr>\n",
       "      <th>4</th>\n",
       "      <td>8841186448183</td>\n",
       "      <td>5642494</td>\n",
       "      <td>F</td>\n",
       "      <td>2016-04-29 16:07:23</td>\n",
       "      <td>2016-04-29</td>\n",
       "      <td>0</td>\n",
       "      <td>56</td>\n",
       "      <td>JARDIM DA PENHA</td>\n",
       "      <td>0</td>\n",
       "      <td>1</td>\n",
       "      <td>1</td>\n",
       "      <td>0</td>\n",
       "      <td>0</td>\n",
       "      <td>0</td>\n",
       "      <td>No</td>\n",
       "    </tr>\n",
       "  </tbody>\n",
       "</table>\n",
       "</div>"
      ],
      "text/plain": [
       "        patient_id  appointment_id gender       scheduled_day appointment_day  \\\n",
       "0   29872499824296         5642903      F 2016-04-29 18:38:08      2016-04-29   \n",
       "1  558997776694438         5642503      M 2016-04-29 16:08:27      2016-04-29   \n",
       "2    4262962299951         5642549      F 2016-04-29 16:19:04      2016-04-29   \n",
       "3     867951213174         5642828      F 2016-04-29 17:29:31      2016-04-29   \n",
       "4    8841186448183         5642494      F 2016-04-29 16:07:23      2016-04-29   \n",
       "\n",
       "   days_to_app  age      neighbourhood  scholarship  hypertension  diabetes  \\\n",
       "0            0   62    JARDIM DA PENHA            0             1         0   \n",
       "1            0   56    JARDIM DA PENHA            0             0         0   \n",
       "2            0   62      MATA DA PRAIA            0             0         0   \n",
       "3            0    8  PONTAL DE CAMBURI            0             0         0   \n",
       "4            0   56    JARDIM DA PENHA            0             1         1   \n",
       "\n",
       "   alcoholism  handicap  sms_received no_show  \n",
       "0           0         0             0      No  \n",
       "1           0         0             0      No  \n",
       "2           0         0             0      No  \n",
       "3           0         0             0      No  \n",
       "4           0         0             0      No  "
      ]
     },
     "execution_count": 19,
     "metadata": {},
     "output_type": "execute_result"
    }
   ],
   "source": [
    "df.head()"
   ]
  },
  {
   "cell_type": "markdown",
   "metadata": {
    "nbpresent": {
     "id": "a2b29def-c86b-4b57-b403-28004df924d7"
    }
   },
   "source": [
    "<a id='eda'></a>\n",
    "# Exploratory Data Analysis\n",
    "\n",
    "> **Tip**: Now that you've trimmed and cleaned your data, you're ready to move on to exploration. Compute statistics and create visualizations with the goal of addressing the research questions that you posed in the Introduction section. It is recommended that you be systematic with your approach. Look at one variable at a time, and then follow it up by looking at relationships between variables."
   ]
  },
  {
   "cell_type": "markdown",
   "metadata": {
    "nbpresent": {
     "id": "b4089900-8c01-4e38-97cc-e925737216ee"
    }
   },
   "source": [
    "### Create new columns"
   ]
  },
  {
   "cell_type": "code",
   "execution_count": 20,
   "metadata": {
    "nbpresent": {
     "id": "77a9fde0-c071-44cd-aa93-01c7a924db13"
    }
   },
   "outputs": [
    {
     "data": {
      "text/html": [
       "<div>\n",
       "<style scoped>\n",
       "    .dataframe tbody tr th:only-of-type {\n",
       "        vertical-align: middle;\n",
       "    }\n",
       "\n",
       "    .dataframe tbody tr th {\n",
       "        vertical-align: top;\n",
       "    }\n",
       "\n",
       "    .dataframe thead th {\n",
       "        text-align: right;\n",
       "    }\n",
       "</style>\n",
       "<table border=\"1\" class=\"dataframe\">\n",
       "  <thead>\n",
       "    <tr style=\"text-align: right;\">\n",
       "      <th></th>\n",
       "      <th>patient_id</th>\n",
       "      <th>appointment_id</th>\n",
       "      <th>gender</th>\n",
       "      <th>scheduled_day</th>\n",
       "      <th>scheduled_dow</th>\n",
       "      <th>appointment_day</th>\n",
       "      <th>appointment_dow</th>\n",
       "      <th>days_to_app</th>\n",
       "      <th>age</th>\n",
       "      <th>age_group</th>\n",
       "      <th>neighbourhood</th>\n",
       "      <th>scholarship</th>\n",
       "      <th>hypertension</th>\n",
       "      <th>diabetes</th>\n",
       "      <th>alcoholism</th>\n",
       "      <th>handicap</th>\n",
       "      <th>is_handicapped</th>\n",
       "      <th>sms_received</th>\n",
       "      <th>no_show</th>\n",
       "    </tr>\n",
       "  </thead>\n",
       "  <tbody>\n",
       "    <tr>\n",
       "      <th>0</th>\n",
       "      <td>29872499824296</td>\n",
       "      <td>5642903</td>\n",
       "      <td>F</td>\n",
       "      <td>2016-04-29 18:38:08</td>\n",
       "      <td>4</td>\n",
       "      <td>2016-04-29</td>\n",
       "      <td>4</td>\n",
       "      <td>0</td>\n",
       "      <td>62</td>\n",
       "      <td>6</td>\n",
       "      <td>JARDIM DA PENHA</td>\n",
       "      <td>0</td>\n",
       "      <td>1</td>\n",
       "      <td>0</td>\n",
       "      <td>0</td>\n",
       "      <td>0</td>\n",
       "      <td>0</td>\n",
       "      <td>0</td>\n",
       "      <td>No</td>\n",
       "    </tr>\n",
       "    <tr>\n",
       "      <th>1</th>\n",
       "      <td>558997776694438</td>\n",
       "      <td>5642503</td>\n",
       "      <td>M</td>\n",
       "      <td>2016-04-29 16:08:27</td>\n",
       "      <td>4</td>\n",
       "      <td>2016-04-29</td>\n",
       "      <td>4</td>\n",
       "      <td>0</td>\n",
       "      <td>56</td>\n",
       "      <td>5</td>\n",
       "      <td>JARDIM DA PENHA</td>\n",
       "      <td>0</td>\n",
       "      <td>0</td>\n",
       "      <td>0</td>\n",
       "      <td>0</td>\n",
       "      <td>0</td>\n",
       "      <td>0</td>\n",
       "      <td>0</td>\n",
       "      <td>No</td>\n",
       "    </tr>\n",
       "    <tr>\n",
       "      <th>2</th>\n",
       "      <td>4262962299951</td>\n",
       "      <td>5642549</td>\n",
       "      <td>F</td>\n",
       "      <td>2016-04-29 16:19:04</td>\n",
       "      <td>4</td>\n",
       "      <td>2016-04-29</td>\n",
       "      <td>4</td>\n",
       "      <td>0</td>\n",
       "      <td>62</td>\n",
       "      <td>6</td>\n",
       "      <td>MATA DA PRAIA</td>\n",
       "      <td>0</td>\n",
       "      <td>0</td>\n",
       "      <td>0</td>\n",
       "      <td>0</td>\n",
       "      <td>0</td>\n",
       "      <td>0</td>\n",
       "      <td>0</td>\n",
       "      <td>No</td>\n",
       "    </tr>\n",
       "    <tr>\n",
       "      <th>3</th>\n",
       "      <td>867951213174</td>\n",
       "      <td>5642828</td>\n",
       "      <td>F</td>\n",
       "      <td>2016-04-29 17:29:31</td>\n",
       "      <td>4</td>\n",
       "      <td>2016-04-29</td>\n",
       "      <td>4</td>\n",
       "      <td>0</td>\n",
       "      <td>8</td>\n",
       "      <td>0</td>\n",
       "      <td>PONTAL DE CAMBURI</td>\n",
       "      <td>0</td>\n",
       "      <td>0</td>\n",
       "      <td>0</td>\n",
       "      <td>0</td>\n",
       "      <td>0</td>\n",
       "      <td>0</td>\n",
       "      <td>0</td>\n",
       "      <td>No</td>\n",
       "    </tr>\n",
       "    <tr>\n",
       "      <th>4</th>\n",
       "      <td>8841186448183</td>\n",
       "      <td>5642494</td>\n",
       "      <td>F</td>\n",
       "      <td>2016-04-29 16:07:23</td>\n",
       "      <td>4</td>\n",
       "      <td>2016-04-29</td>\n",
       "      <td>4</td>\n",
       "      <td>0</td>\n",
       "      <td>56</td>\n",
       "      <td>5</td>\n",
       "      <td>JARDIM DA PENHA</td>\n",
       "      <td>0</td>\n",
       "      <td>1</td>\n",
       "      <td>1</td>\n",
       "      <td>0</td>\n",
       "      <td>0</td>\n",
       "      <td>0</td>\n",
       "      <td>0</td>\n",
       "      <td>No</td>\n",
       "    </tr>\n",
       "  </tbody>\n",
       "</table>\n",
       "</div>"
      ],
      "text/plain": [
       "        patient_id  appointment_id gender       scheduled_day  scheduled_dow  \\\n",
       "0   29872499824296         5642903      F 2016-04-29 18:38:08              4   \n",
       "1  558997776694438         5642503      M 2016-04-29 16:08:27              4   \n",
       "2    4262962299951         5642549      F 2016-04-29 16:19:04              4   \n",
       "3     867951213174         5642828      F 2016-04-29 17:29:31              4   \n",
       "4    8841186448183         5642494      F 2016-04-29 16:07:23              4   \n",
       "\n",
       "  appointment_day  appointment_dow  days_to_app  age  age_group  \\\n",
       "0      2016-04-29                4            0   62          6   \n",
       "1      2016-04-29                4            0   56          5   \n",
       "2      2016-04-29                4            0   62          6   \n",
       "3      2016-04-29                4            0    8          0   \n",
       "4      2016-04-29                4            0   56          5   \n",
       "\n",
       "       neighbourhood  scholarship  hypertension  diabetes  alcoholism  \\\n",
       "0    JARDIM DA PENHA            0             1         0           0   \n",
       "1    JARDIM DA PENHA            0             0         0           0   \n",
       "2      MATA DA PRAIA            0             0         0           0   \n",
       "3  PONTAL DE CAMBURI            0             0         0           0   \n",
       "4    JARDIM DA PENHA            0             1         1           0   \n",
       "\n",
       "   handicap  is_handicapped  sms_received no_show  \n",
       "0         0               0             0      No  \n",
       "1         0               0             0      No  \n",
       "2         0               0             0      No  \n",
       "3         0               0             0      No  \n",
       "4         0               0             0      No  "
      ]
     },
     "execution_count": 20,
     "metadata": {},
     "output_type": "execute_result"
    }
   ],
   "source": [
    "# day of the week\n",
    "df.insert(df.columns.get_loc('scheduled_day') + 1, 'scheduled_dow', df['scheduled_day'].dt.weekday)\n",
    "df.insert(df.columns.get_loc('appointment_day') + 1, 'appointment_dow', df['appointment_day'].dt.weekday)\n",
    "\n",
    "# age group\n",
    "df.insert(df.columns.get_loc('age') + 1, 'age_group',df['age'].apply(lambda x: min(x//10, 10)))\n",
    "\n",
    "# The provider of this dataset says handicap is a boolean value, but it actually has 5 unique values (the severity of handicap).\n",
    "# There might be some relationship between the no-show rate and the severity of handicap.\n",
    "# I'll craete a new feature named is_handicapped which represents whether the patient has handicap\n",
    "df.insert(df.columns.get_loc('handicap') + 1, 'is_handicapped',df['handicap'].apply(lambda x: int(x > 0)))\n",
    "df.head()"
   ]
  },
  {
   "cell_type": "code",
   "execution_count": 21,
   "metadata": {
    "nbpresent": {
     "id": "0bb93794-5a87-437c-ade7-fb2802d59ef3"
    }
   },
   "outputs": [],
   "source": [
    "def tick_group_num(ser):\n",
    "    \"\"\"\n",
    "    Create ticklabels like 12(n=1442)\n",
    "    \"\"\"\n",
    "    return [str(group) + ' (n={})'.format(num) for group, num in zip(ser.index, ser.tolist())]"
   ]
  },
  {
   "cell_type": "code",
   "execution_count": 22,
   "metadata": {
    "nbpresent": {
     "id": "ae4dbec3-16ee-4edf-9efe-2e88dddc44c1"
    }
   },
   "outputs": [
    {
     "name": "stdout",
     "output_type": "stream",
     "text": [
      "No-show: 423966\n",
      "Show: 1675933\n",
      "Show-up rate: 0.798101718225\n"
     ]
    }
   ],
   "source": [
    "df_no = df[df['no_show'] == 'Yes']  # patients who didn't show up\n",
    "df_yes = df[df['no_show'] == 'No']  # patients who showed up\n",
    "print('No-show:', df_no.size)\n",
    "print('Show:', df_yes.size)\n",
    "print('Show-up rate:', df_yes.size / df.size)"
   ]
  },
  {
   "cell_type": "markdown",
   "metadata": {
    "nbpresent": {
     "id": "7bb4fd94-0b7c-47b2-90f1-21bbe06c0973"
    }
   },
   "source": [
    "### Schuduled day of the week"
   ]
  },
  {
   "cell_type": "code",
   "execution_count": 23,
   "metadata": {
    "nbpresent": {
     "id": "33dccf0f-9283-4d5e-bf7a-0a00d2b5fccf"
    }
   },
   "outputs": [
    {
     "data": {
      "text/plain": [
       "scheduled_dow\n",
       "0    23084\n",
       "1    26167\n",
       "2    24259\n",
       "3    18072\n",
       "4    18915\n",
       "5       24\n",
       "dtype: int64"
      ]
     },
     "execution_count": 23,
     "metadata": {},
     "output_type": "execute_result"
    }
   ],
   "source": [
    "sch_dow_no = df_no.groupby('scheduled_dow').size()\n",
    "sch_dow_yes = df_yes.groupby('scheduled_dow').size()\n",
    "sch_dow_total = df.groupby('scheduled_dow').size()\n",
    "sch_dow_total"
   ]
  },
  {
   "cell_type": "markdown",
   "metadata": {
    "nbpresent": {
     "id": "1c7fcc79-f6fd-48dd-be07-7f835891f20a"
    }
   },
   "source": [
    "- The number of patients who made appointments in Saturday is very small. I guess that's because Saturday and Sunday are day-off for the hospitals."
   ]
  },
  {
   "cell_type": "code",
   "execution_count": 24,
   "metadata": {
    "nbpresent": {
     "id": "414c0d5f-b913-4766-8e9b-2e390289de98"
    },
    "scrolled": true
   },
   "outputs": [
    {
     "data": {
      "image/png": "[encoded data removed]",
      "text/plain": [
       "<Figure size 432x288 with 1 Axes>"
      ]
     },
     "metadata": {},
     "output_type": "display_data"
    }
   ],
   "source": [
    "import calendar\n",
    "dow_str = calendar.weekheader(3).split()\n",
    "yticklabels = [str(x) + ' (n={})'.format(num) for x, num in zip(dow_str, sch_dow_no)]\n",
    "(sch_dow_no / sch_dow_total).plot('barh')\n",
    "locs, _ = plt.yticks()\n",
    "plt.xlabel('No-show rate')\n",
    "plt.yticks(locs, yticklabels)\n",
    "plt.title('No-show rate comparison: Schduled day of the week', fontsize=14)\n",
    "plt.ylim([-0.5, 4.5])  # ignore Saturday because the number of samples is very small and its result is unreliable\n",
    "plt.show()\n",
    "# n in the y ticklabels represents the number of the patients who didn't show up"
   ]
  },
  {
   "cell_type": "markdown",
   "metadata": {
    "nbpresent": {
     "id": "eec6febd-6805-4a1c-ba28-bcf599d9ead3"
    }
   },
   "source": [
    "The differences are very small. This feature doesn't seem to affet the no-show rate."
   ]
  },
  {
   "cell_type": "markdown",
   "metadata": {
    "nbpresent": {
     "id": "80299be7-a3a8-4c75-8019-8e4e14ab067f"
    }
   },
   "source": [
    "### Appointment day of the week"
   ]
  },
  {
   "cell_type": "code",
   "execution_count": 25,
   "metadata": {
    "nbpresent": {
     "id": "c8c9bf74-3a14-4b5d-83a3-934cf8d0b32a"
    }
   },
   "outputs": [],
   "source": [
    "app_dow_no = df_no.groupby('appointment_dow').size()\n",
    "app_dow_yes = df_yes.groupby('appointment_dow').size()\n",
    "app_dow_total = df.groupby('appointment_dow').size()"
   ]
  },
  {
   "cell_type": "code",
   "execution_count": 26,
   "metadata": {
    "nbpresent": {
     "id": "dd3cba51-a7c4-4ebc-b004-9d96d236d221"
    }
   },
   "outputs": [
    {
     "data": {
      "image/png": "[encoded data removed]",
      "text/plain": [
       "<Figure size 432x288 with 1 Axes>"
      ]
     },
     "metadata": {},
     "output_type": "display_data"
    }
   ],
   "source": [
    "import calendar\n",
    "calendar.weekheader(3).split()\n",
    "dow_str = calendar.weekheader(3).split()\n",
    "ytick_labels = [str(x) + ' (n={})'.format(num) for x, num in zip(dow_str, app_dow_no)]\n",
    "(app_dow_no / app_dow_total).plot('barh')\n",
    "locs, _ = plt.yticks()\n",
    "plt.xlabel('No-show rate')\n",
    "plt.yticks(locs, ytick_labels)\n",
    "plt.title('No-show rate comparison: Appointment day of the week', fontsize=14)\n",
    "plt.ylim([-0.5, 4.5])  # ignore Saturday because the number of data is very small and its result is unreliable\n",
    "plt.show()\n",
    "\n",
    "# n in the y ticklabels represents the number of the patients who didn't show up"
   ]
  },
  {
   "cell_type": "markdown",
   "metadata": {
    "nbpresent": {
     "id": "030b0247-faa4-4d6c-b62e-d9c680f393d4"
    }
   },
   "source": [
    "- Similar to the schedule day of the week."
   ]
  },
  {
   "cell_type": "markdown",
   "metadata": {
    "nbpresent": {
     "id": "104e1072-ca0e-4283-8849-e5ec72dc1f19"
    }
   },
   "source": [
    "### Scheduled Day"
   ]
  },
  {
   "cell_type": "code",
   "execution_count": 27,
   "metadata": {
    "nbpresent": {
     "id": "7e7543ff-c523-49f7-a723-2fcccb93ce6f"
    }
   },
   "outputs": [
    {
     "name": "stdout",
     "output_type": "stream",
     "text": [
      "2015-11-10 07:13:56 2016-06-08 20:07:23\n"
     ]
    }
   ],
   "source": [
    "min_date = min(df['scheduled_day'])\n",
    "max_date = max(df['scheduled_day'])\n",
    "print(min_date, max_date)"
   ]
  },
  {
   "cell_type": "code",
   "execution_count": 28,
   "metadata": {
    "nbpresent": {
     "id": "636a8c5b-0b1f-4743-8af8-9272d0788d73"
    }
   },
   "outputs": [
    {
     "data": {
      "text/plain": [
       "scheduled_day  scheduled_day\n",
       "2015           11                   1\n",
       "               12                  61\n",
       "2016           1                   60\n",
       "               2                  281\n",
       "               3                 3614\n",
       "               4                25339\n",
       "               5                67416\n",
       "               6                13749\n",
       "dtype: int64"
      ]
     },
     "execution_count": 28,
     "metadata": {},
     "output_type": "execute_result"
    }
   ],
   "source": [
    "sch_by = [df['scheduled_day'].dt.year, df['scheduled_day'].dt.month]\n",
    "df_sch = df.groupby(sch_by)\n",
    "df_sch.size()"
   ]
  },
  {
   "cell_type": "markdown",
   "metadata": {
    "nbpresent": {
     "id": "f5e809a4-550f-481f-91f7-70859e8f2ead"
    }
   },
   "source": [
    "- `SchduledDay` has a weird disribution. The number of samples in Apr, May, and Jun is much larger than the rest."
   ]
  },
  {
   "cell_type": "markdown",
   "metadata": {
    "nbpresent": {
     "id": "46a88e52-20df-462c-8aa3-6c311769be91"
    }
   },
   "source": [
    "### Appointment Day"
   ]
  },
  {
   "cell_type": "code",
   "execution_count": 29,
   "metadata": {
    "nbpresent": {
     "id": "cde171aa-f4ac-42f7-b85e-73e79c316335"
    }
   },
   "outputs": [
    {
     "name": "stdout",
     "output_type": "stream",
     "text": [
      "2016-04-29 00:00:00 2016-06-08 00:00:00\n"
     ]
    }
   ],
   "source": [
    "min_date = min(df['appointment_day'])\n",
    "max_date = max(df['appointment_day'])\n",
    "print(min_date, max_date)"
   ]
  },
  {
   "cell_type": "markdown",
   "metadata": {
    "nbpresent": {
     "id": "efddcd25-1afc-47c9-aebb-fb0591ec0696"
    }
   },
   "source": [
    "- `AppointmentDay` spans over about 1 month while `ScheduledDay` spans over about 7 month.\n",
    "- Now it makes sense that `ScheduledDay` has a weird distribution."
   ]
  },
  {
   "cell_type": "markdown",
   "metadata": {
    "nbpresent": {
     "id": "0fd04ee8-3100-49d4-9f74-4e4bedda7e08"
    }
   },
   "source": [
    "### Days to Appointment"
   ]
  },
  {
   "cell_type": "code",
   "execution_count": 30,
   "metadata": {
    "nbpresent": {
     "id": "d3e3d2be-4b02-485f-8adf-79cb8fbb55e5"
    }
   },
   "outputs": [
    {
     "data": {
      "text/plain": [
       "days_to_app\n",
       "0    38562\n",
       "1     5213\n",
       "2     6725\n",
       "3     2737\n",
       "4     5290\n",
       "dtype: int64"
      ]
     },
     "execution_count": 30,
     "metadata": {},
     "output_type": "execute_result"
    }
   ],
   "source": [
    "wd_yes = df_yes.groupby('days_to_app').size().sort_values(ascending=False)\n",
    "wd_no = df_no.groupby('days_to_app').size().sort_values(ascending=False)\n",
    "wd_total = df.groupby('days_to_app').size()\n",
    "wd_total.head()"
   ]
  },
  {
   "cell_type": "markdown",
   "metadata": {
    "nbpresent": {
     "id": "83752c25-268d-443a-bb0a-61c6dcaf67f2"
    }
   },
   "source": [
    "- Most of the patients schedule their appointments and visit the hospitals on the same day. "
   ]
  },
  {
   "cell_type": "code",
   "execution_count": 31,
   "metadata": {
    "nbpresent": {
     "id": "9a7c14dc-9901-4784-8a6d-82215e8f4deb"
    }
   },
   "outputs": [
    {
     "data": {
      "image/png": "[encoded data removed]",
      "text/plain": [
       "<Figure size 432x288 with 1 Axes>"
      ]
     },
     "metadata": {},
     "output_type": "display_data"
    }
   ],
   "source": [
    "wd_rate = (wd_no / wd_total[wd_no.index])\n",
    "wd_rate.iloc[:20].sort_values().plot('barh')\n",
    "locs, labels = plt.yticks()\n",
    "labels = list(map(lambda x: x.get_text(), labels))\n",
    "ytick_labels = [label + ' (n={})'.format(wd_no[int(label)]) for label in labels]\n",
    "plt.xlabel('No-show rate')\n",
    "plt.yticks(locs, ytick_labels[:20])\n",
    "plt.title('No-show rate comparison: Days_to_app', fontsize=14)\n",
    "plt.show()"
   ]
  },
  {
   "cell_type": "markdown",
   "metadata": {
    "nbpresent": {
     "id": "a50b855f-23ae-4faf-901a-0bbb2d5b44d7"
    }
   },
   "source": [
    "- The patients who schedule their appointments and visit the hospitals on the same day, have a very low no-show rate.\n",
    "- The longer `days_to_app` is, The less likely the patients are to show up."
   ]
  },
  {
   "cell_type": "markdown",
   "metadata": {
    "nbpresent": {
     "id": "30513792-0522-41ea-b32e-e7949bb5d2e5"
    }
   },
   "source": [
    "### Age"
   ]
  },
  {
   "cell_type": "code",
   "execution_count": 32,
   "metadata": {
    "nbpresent": {
     "id": "9dfb01f0-9d33-4c2c-a02c-f94fdbd5c630"
    }
   },
   "outputs": [
    {
     "name": "stdout",
     "output_type": "stream",
     "text": [
      "age_group\n",
      "0     17474\n",
      "1     12935\n",
      "2     13698\n",
      "3     15170\n",
      "4     14209\n",
      "5     15863\n",
      "6     11876\n",
      "7      5934\n",
      "8      2945\n",
      "9       406\n",
      "10       11\n",
      "dtype: int64\n"
     ]
    }
   ],
   "source": [
    "age_no = df_no.groupby('age_group').size()\n",
    "age_yes = df_yes.groupby('age_group').size()\n",
    "age_total = df.groupby('age_group').size()\n",
    "age_rate = age_no / age_total\n",
    "print(age_total)"
   ]
  },
  {
   "cell_type": "markdown",
   "metadata": {
    "nbpresent": {
     "id": "1fa626fe-0d55-4508-bcab-92e1bbb60215"
    }
   },
   "source": [
    "- The number of patients older than 100 is very low."
   ]
  },
  {
   "cell_type": "code",
   "execution_count": 33,
   "metadata": {
    "nbpresent": {
     "id": "c4defd2f-aa7b-41ee-b2ad-ecc34cff17a4"
    }
   },
   "outputs": [
    {
     "data": {
      "image/png": "[encoded data removed]",
      "text/plain": [
       "<Figure size 432x288 with 1 Axes>"
      ]
     },
     "metadata": {},
     "output_type": "display_data"
    },
    {
     "name": "stdout",
     "output_type": "stream",
     "text": [
      "No-show rate mean: 0.20253283482\n"
     ]
    }
   ],
   "source": [
    "# plot the results\n",
    "ytick_labels = ['{}: {} ~ {} (n={})'.format(x, x*10, (x+1)*10 - 1, age_no[x]) for x in range(len(age_no))]\n",
    "ytick_labels[-1] = '> 100 (n={})'.format(age_no[10])\n",
    "idx = np.arange(len(age_no))\n",
    "plt.barh(idx, age_rate)\n",
    "plt.ylabel('age group')\n",
    "plt.xlabel('No-show rate')\n",
    "plt.yticks(idx, ytick_labels, rotation=0, ha='right')\n",
    "plt.title('No-show rate comparison: Age group', fontsize=14)\n",
    "# plt.legend(bbox_to_anchor=(1, 0.5))\n",
    "plt.show()\n",
    "print('No-show rate mean:', (age_no / age_total).mean())"
   ]
  },
  {
   "cell_type": "markdown",
   "metadata": {
    "nbpresent": {
     "id": "d52732a8-4dc1-49bc-b7ba-8a58ad28cfdd"
    }
   },
   "source": [
    "- Age group 1 and 2 have a high no-show rate.\n",
    "- Age group 5~8 have a low no-show rate.\n",
    "- Age group 0 and 9 have the average no-show rate\n",
    "- The no-show rate of Age group 10 is not reliable because the number of samples is very mall as discussed above."
   ]
  },
  {
   "cell_type": "markdown",
   "metadata": {
    "nbpresent": {
     "id": "8b893ae1-babf-47d0-a455-a9f1052bb8bd"
    }
   },
   "source": [
    "### Gender"
   ]
  },
  {
   "cell_type": "code",
   "execution_count": 34,
   "metadata": {
    "nbpresent": {
     "id": "d434efdb-948e-43e5-8161-522a5dee4ec6"
    }
   },
   "outputs": [
    {
     "data": {
      "image/png": "[encoded data removed]",
      "text/plain": [
       "<Figure size 432x288 with 1 Axes>"
      ]
     },
     "metadata": {},
     "output_type": "display_data"
    }
   ],
   "source": [
    "gen_no = df_no.groupby('gender').size()\n",
    "gen_yes = df_yes.groupby('gender').size()\n",
    "gen_total = df.groupby('gender').size()\n",
    "gen_rate = gen_no / gen_total\n",
    "\n",
    "gen_rate.plot('bar', fontsize=14, rot=0)\n",
    "plt.ylabel('No-show rate', fontsize=14)\n",
    "plt.title('No-show rate comparison: Gender', fontsize=14)\n",
    "plt.show()"
   ]
  },
  {
   "cell_type": "markdown",
   "metadata": {
    "nbpresent": {
     "id": "dca89e61-64ed-4e31-932c-cd4de94c4bda"
    }
   },
   "source": [
    "The no-show rates are almost the same."
   ]
  },
  {
   "cell_type": "markdown",
   "metadata": {
    "nbpresent": {
     "id": "f502ec87-f3ca-45c7-9711-cb13cc0c12d9"
    }
   },
   "source": [
    "### Age + Gender"
   ]
  },
  {
   "cell_type": "code",
   "execution_count": 35,
   "metadata": {
    "nbpresent": {
     "id": "477f1ae2-5267-499b-a72a-cb670e3add73"
    }
   },
   "outputs": [
    {
     "data": {
      "image/png": "[encoded data removed]",
      "text/plain": [
       "<Figure size 432x288 with 1 Axes>"
      ]
     },
     "metadata": {},
     "output_type": "display_data"
    },
    {
     "data": {
      "image/png": "[encoded data removed]",
      "text/plain": [
       "<Figure size 432x288 with 1 Axes>"
      ]
     },
     "metadata": {},
     "output_type": "display_data"
    }
   ],
   "source": [
    "# Female\n",
    "female_index = (df['gender'] == 'F')\n",
    "age_f_no = df_no[female_index].groupby('age_group').size()\n",
    "age_f_yes = df_yes[female_index].groupby('age_group').size()\n",
    "age_f_total = df[female_index].groupby('age_group').size()\n",
    "age_f_rate = age_f_no / age_f_total\n",
    "\n",
    "ytick_labels = ['{}: {} ~ {} (n={})'.format(x, x*10, (x+1)*10 - 1, age_f_no[x]) for x in range(len(age_f_no))]\n",
    "ytick_labels[-1] = '> 100 (n={})'.format(age_f_no[10])\n",
    "idx = np.arange(len(age_f_no))\n",
    "plt.barh(idx, age_f_rate)\n",
    "plt.ylabel('age group')\n",
    "plt.xlabel('No-show rate')\n",
    "plt.yticks(idx, ytick_labels, rotation=0, ha='right')\n",
    "plt.title('No-show rate comparison: Age group (Female)', fontsize=14)\n",
    "plt.show()\n",
    "\n",
    "# Male\n",
    "male_index = (df['gender'] == 'M')\n",
    "age_m_no = df_no[male_index].groupby('age_group').size()\n",
    "age_m_yes = df_yes[male_index].groupby('age_group').size()\n",
    "age_m_total = df[male_index].groupby('age_group').size()\n",
    "age_m_rate = age_m_no / age_m_total\n",
    "\n",
    "ytick_labels = ['{}: {} ~ {} (n={})'.format(x, x*10, (x+1)*10 - 1, age_m_no[x]) for x in range(len(age_m_no))]\n",
    "# ytick_labels[-1] = '> 100 (n={})'.format(age_m_no[10])\n",
    "idx = np.arange(len(age_total))\n",
    "plt.barh(idx, age_m_rate)\n",
    "plt.ylabel('age group')\n",
    "plt.xlabel('No-show rate')\n",
    "plt.yticks(idx, ytick_labels, rotation=0, ha='right')\n",
    "plt.title('No-show rate comparison: Age group (Male)', fontsize=14)\n",
    "plt.xlim([0, 0.35])\n",
    "plt.show()"
   ]
  },
  {
   "cell_type": "markdown",
   "metadata": {
    "nbpresent": {
     "id": "3b918b2a-f093-41f0-8c9f-468cb5c6bc45"
    }
   },
   "source": [
    "- The overall trends are similar.\n",
    "- For the age group 9, the female patients have a higher no-show rate but I'm not sure if this is reliable due to a small amout of samples."
   ]
  },
  {
   "cell_type": "markdown",
   "metadata": {
    "nbpresent": {
     "id": "24202511-931d-4cb1-af14-71660265c653"
    }
   },
   "source": [
    "### SMS_received"
   ]
  },
  {
   "cell_type": "code",
   "execution_count": 36,
   "metadata": {
    "nbpresent": {
     "id": "0c56576f-9fd1-4649-8397-516f90506e16"
    }
   },
   "outputs": [
    {
     "data": {
      "text/plain": [
       "Text(0.5,1,'days_to_app vs. SMS received rate')"
      ]
     },
     "execution_count": 36,
     "metadata": {},
     "output_type": "execute_result"
    },
    {
     "data": {
      "image/png": "[encoded data removed]",
      "text/plain": [
       "<Figure size 432x288 with 1 Axes>"
      ]
     },
     "metadata": {},
     "output_type": "display_data"
    }
   ],
   "source": [
    "# Check when sms reminders are sent\n",
    "sms_yes = df[df['sms_received'] == 1].groupby('days_to_app').size()\n",
    "sms_no = df[df['sms_received'] == 0].groupby('days_to_app').size()\n",
    "sms_total = df.groupby('days_to_app').size()\n",
    "sms_received_rate = sms_yes / sms_total\n",
    "sms_received_rate.fillna(0).plot()\n",
    "plt.xlim([0, 30])\n",
    "plt.ylabel('SMS recevied rate')\n",
    "plt.title('days_to_app vs. SMS received rate', fontsize=14)"
   ]
  },
  {
   "cell_type": "markdown",
   "metadata": {
    "nbpresent": {
     "id": "b8e094db-6cf6-4f02-8869-a525e4c25788"
    }
   },
   "source": [
    "- None of the patients received SMS reminders if the appointment day is 2 days away from the schduled day. This indicates SMS reminders were not sent to these patients. I'll remove the patients with `days_to_app` < 3 becasue including these patients will decrease the no-show rate of the SMS-not-received group."
   ]
  },
  {
   "cell_type": "code",
   "execution_count": 37,
   "metadata": {
    "nbpresent": {
     "id": "c1d1dd97-8fda-4290-9589-7d7add7a2a12"
    }
   },
   "outputs": [
    {
     "data": {
      "image/png": "[encoded data removed]",
      "text/plain": [
       "<Figure size 432x288 with 1 Axes>"
      ]
     },
     "metadata": {},
     "output_type": "display_data"
    },
    {
     "name": "stdout",
     "output_type": "stream",
     "text": [
      "No-show rate difference: 0.0512034900282\n"
     ]
    }
   ],
   "source": [
    "# Check the no-show rate\n",
    "index_yes = (df['sms_received'] == 1) & (df['no_show'] == 'Yes') & (df['days_to_app'] >= 3)\n",
    "index_no = (df['sms_received'] == 0) & (df['no_show'] == 'Yes') & (df['days_to_app'] >= 3)\n",
    "\n",
    "sms_yes_rate = df[index_yes].size / df[(df['sms_received'] == 1) & (df['days_to_app'] >= 3)].size\n",
    "sms_no_rate = df[index_no].size / df[(df['sms_received'] == 0) & (df['days_to_app'] >= 3)].size\n",
    "plt.bar(0, sms_yes_rate)\n",
    "plt.bar(1, sms_no_rate)\n",
    "plt.xticks([0, 1], ['SMS received', 'SMS not received'])\n",
    "plt.ylabel('No-show rate')\n",
    "plt.title('No-show rate comparison: SMS received', fontsize=14)\n",
    "plt.show()\n",
    "print('No-show rate difference:', sms_no_rate - sms_yes_rate)"
   ]
  },
  {
   "cell_type": "markdown",
   "metadata": {
    "nbpresent": {
     "id": "8311028e-8639-43a8-9182-67bb80b21aaa"
    }
   },
   "source": [
    "The patients who didn't receive sms reminders have a higher no-show rate. This makes sense because people are more likely to show up if they receive reminders."
   ]
  },
  {
   "cell_type": "markdown",
   "metadata": {
    "nbpresent": {
     "id": "eb93204c-8f6b-47ff-939f-56d52dd2d34c"
    }
   },
   "source": [
    "### Handcap"
   ]
  },
  {
   "cell_type": "code",
   "execution_count": 38,
   "metadata": {
    "nbpresent": {
     "id": "1dea63f6-2cc0-4759-bb99-93a4108dfab6"
    }
   },
   "outputs": [
    {
     "data": {
      "text/plain": [
       "0    108282\n",
       "1      2040\n",
       "2       183\n",
       "3        13\n",
       "4         3\n",
       "Name: handicap, dtype: int64"
      ]
     },
     "execution_count": 38,
     "metadata": {},
     "output_type": "execute_result"
    }
   ],
   "source": [
    "df['handicap'].value_counts()"
   ]
  },
  {
   "cell_type": "markdown",
   "metadata": {
    "nbpresent": {
     "id": "2505325e-a81c-4b5f-88e7-f0b19be1357f"
    }
   },
   "source": [
    "- Most of the patients don't have handicap. It is difficult to evaluate the relationship between the no-show rate and the severity of handcap becasue the number of samples in handicap 2~4 is too small. Instead of `handicap`, I'll use `is_handicapped` in the following seciton to see how this feature affect the no-show rate."
   ]
  },
  {
   "cell_type": "code",
   "execution_count": 39,
   "metadata": {
    "nbpresent": {
     "id": "1ac59f7e-630c-488a-b96f-ba4c7dcf1ee7"
    }
   },
   "outputs": [
    {
     "data": {
      "text/plain": [
       "Text(0.5,1,'No-show rate comparison: the severity of handicap')"
      ]
     },
     "execution_count": 39,
     "metadata": {},
     "output_type": "execute_result"
    },
    {
     "data": {
      "image/png": "[encoded data removed]",
      "text/plain": [
       "<Figure size 432x288 with 1 Axes>"
      ]
     },
     "metadata": {},
     "output_type": "display_data"
    }
   ],
   "source": [
    "handi_yes = df_yes.groupby('handicap').size()\n",
    "handi_no = df_no.groupby('handicap').size()\n",
    "handi_total = df.groupby('handicap').size()\n",
    "# print(handi_yes, handi_no, handi_total, sep='\\n'*2)\n",
    "(handi_no / handi_total).plot('barh')\n",
    "plt.title('No-show rate comparison: the severity of handicap', fontsize=14)"
   ]
  },
  {
   "cell_type": "markdown",
   "metadata": {
    "nbpresent": {
     "id": "c1a81014-0cd9-4d36-9a35-4dffd6181491"
    }
   },
   "source": [
    "### Boolean features (scholarship, hipertension, diabetes, alcoholism, is_handicapped )"
   ]
  },
  {
   "cell_type": "code",
   "execution_count": 40,
   "metadata": {
    "nbpresent": {
     "id": "f6b7a7f2-1307-4140-b4e3-b1056b8b5a45"
    }
   },
   "outputs": [
    {
     "data": {
      "image/png": "[encoded data removed]",
      "text/plain": [
       "<Figure size 432x288 with 1 Axes>"
      ]
     },
     "metadata": {},
     "output_type": "display_data"
    }
   ],
   "source": [
    "cols = ['scholarship', 'hypertension', 'diabetes', 'alcoholism', 'is_handicapped']\n",
    "true_no = df_no[cols].sum()\n",
    "true_yes = df_yes[cols].sum()\n",
    "false_no = df_no[cols].count() - true_no\n",
    "false_yes = df_yes[cols].count() - true_yes\n",
    "true_total = df[cols].sum()\n",
    "false_total = df[cols].count() - true_total\n",
    "true_rate = true_no / true_total\n",
    "false_rate = false_no / false_total\n",
    "idx = np.arange(len(cols))\n",
    "\n",
    "bar_width = 0.3\n",
    "plt.bar(idx, false_rate, bar_width, color='b', alpha=0.7, label='False')\n",
    "plt.bar(idx + bar_width, true_rate, bar_width, color='g', alpha=0.7, label='True')\n",
    "plt.xticks(idx + bar_width / 2, cols, fontsize=14, rotation=90)\n",
    "plt.ylabel('No-show rate', fontsize=14)\n",
    "plt.legend(bbox_to_anchor=(1, 0.5))\n",
    "plt.title('No-show rate comparison: Boolean features', fontsize=14)\n",
    "plt.show()"
   ]
  },
  {
   "cell_type": "markdown",
   "metadata": {
    "nbpresent": {
     "id": "a0ddaa01-8461-4d6b-b5e3-bf4f1dbf0f65"
    }
   },
   "source": [
    "`hypertension`, `diabetes` and `is_handicapped` seems to be related a lower no-show rate, while the patients with `scholarship` were less likely to keep their appointments"
   ]
  },
  {
   "cell_type": "markdown",
   "metadata": {
    "nbpresent": {
     "id": "c4a14c3f-6949-4e5a-a9a7-a07f2eb7b570"
    }
   },
   "source": [
    "### Gender + Boolean features"
   ]
  },
  {
   "cell_type": "code",
   "execution_count": 41,
   "metadata": {
    "nbpresent": {
     "id": "506d51d8-6393-42d0-83b7-6c2ebaf20129"
    }
   },
   "outputs": [
    {
     "data": {
      "image/png": "[encoded data removed]",
      "text/plain": [
       "<Figure size 432x288 with 1 Axes>"
      ]
     },
     "metadata": {},
     "output_type": "display_data"
    },
    {
     "data": {
      "image/png": "[encoded data removed]",
      "text/plain": [
       "<Figure size 432x288 with 1 Axes>"
      ]
     },
     "metadata": {},
     "output_type": "display_data"
    }
   ],
   "source": [
    "# Female\n",
    "cols = ['scholarship', 'hypertension', 'diabetes', 'alcoholism', 'is_handicapped']\n",
    "true_no = df_no[female_index][cols].sum()\n",
    "true_yes = df_yes[female_index][cols].sum()\n",
    "false_no = df_no[female_index][cols].count() - true_no\n",
    "false_yes = df_yes[female_index][cols].count() - true_yes\n",
    "true_total = df[female_index][cols].sum()\n",
    "false_total = df[female_index][cols].count() - true_total\n",
    "true_rate = true_no / true_total\n",
    "false_rate = false_no / false_total\n",
    "idx = np.arange(len(cols))\n",
    "\n",
    "bar_width = 0.3\n",
    "plt.bar(idx, false_rate, bar_width, color='b', alpha=0.7, label='False')\n",
    "plt.bar(idx + bar_width, true_rate, bar_width, color='g', alpha=0.7, label='True')\n",
    "plt.xticks(idx + bar_width / 2, cols, fontsize=14, rotation=90)\n",
    "plt.ylabel('No-show rate', fontsize=14)\n",
    "plt.legend(bbox_to_anchor=(1, 0.5))\n",
    "plt.title('No-show rate comparison: Boolean features (Female)', fontsize=14)\n",
    "plt.show()\n",
    "\n",
    "# Male\n",
    "true_no = df_no[male_index][cols].sum()\n",
    "true_yes = df_yes[male_index][cols].sum()\n",
    "false_no = df_no[male_index][cols].count() - true_no\n",
    "false_yes = df_yes[male_index][cols].count() - true_yes\n",
    "true_total = df[male_index][cols].sum()\n",
    "false_total = df[male_index][cols].count() - true_total\n",
    "true_rate = true_no / true_total\n",
    "false_rate = false_no / false_total\n",
    "idx = np.arange(len(cols))\n",
    "\n",
    "bar_width = 0.3\n",
    "plt.bar(idx, false_rate, bar_width, color='b', alpha=0.7, label='False')\n",
    "plt.bar(idx + bar_width, true_rate, bar_width, color='g', alpha=0.7, label='True')\n",
    "plt.xticks(idx + bar_width / 2, cols, fontsize=14, rotation=90)\n",
    "plt.ylabel('No-show rate', fontsize=14)\n",
    "plt.legend(bbox_to_anchor=(1, 0.5))\n",
    "plt.title('No-show rate comparison: Boolean features (Male)', fontsize=14)\n",
    "plt.show()"
   ]
  },
  {
   "cell_type": "markdown",
   "metadata": {
    "nbpresent": {
     "id": "fe4ef4de-574f-4acb-bc36-42792e222135"
    }
   },
   "source": [
    "- The female patients with alcoholism have a much higher no-show rate than the male patients with alcoholism.\n",
    "- The no-show rate of the other features are similar."
   ]
  },
  {
   "cell_type": "markdown",
   "metadata": {
    "nbpresent": {
     "id": "e52617ee-cdf7-4a0e-b5ad-f1bbd5125dcc"
    }
   },
   "source": [
    "### Neighbourhood"
   ]
  },
  {
   "cell_type": "code",
   "execution_count": 42,
   "metadata": {
    "nbpresent": {
     "id": "691037ca-63e5-49de-b9b2-70c024083861"
    }
   },
   "outputs": [
    {
     "data": {
      "image/png": "[encoded data removed]",
      "text/plain": [
       "<Figure size 1440x720 with 1 Axes>"
      ]
     },
     "metadata": {},
     "output_type": "display_data"
    }
   ],
   "source": [
    "nh_no = df_no.groupby('neighbourhood').size()\n",
    "nh_yes = df_yes.groupby('neighbourhood').size()\n",
    "nh_total = df.groupby('neighbourhood').size()\n",
    "nh_rate = nh_no / nh_total\n",
    "\n",
    "nh_rate.sort_values()[:-2].plot('bar', figsize=(20, 10))\n",
    "locs, labels = plt.xticks()\n",
    "labels = list(map(lambda x: x.get_text(), labels))\n",
    "xtick_labels = [label +' (n={})'.format(nh_no[label]) for label in labels]\n",
    "plt.xticks(locs, xtick_labels, rotation=90)\n",
    "plt.ylabel('No-show rate')\n",
    "plt.show()"
   ]
  },
  {
   "cell_type": "markdown",
   "metadata": {
    "nbpresent": {
     "id": "590644ef-8fe5-42ab-ac37-ebca6727d7c0"
    }
   },
   "source": [
    "- `neighbourhood` seems to be related the no-show rate. I think we need more information (e.g. latitude, longitude, the distance from the patient's house) to investigate the pattern above."
   ]
  },
  {
   "cell_type": "markdown",
   "metadata": {
    "nbpresent": {
     "id": "4fe51bfe-3926-4e73-8321-9c570c644ed1"
    }
   },
   "source": [
    "### Research Question 1\n",
    "What factors are important for us to know in order to predict if a patient will show up for their scheduled appointment?"
   ]
  },
  {
   "cell_type": "markdown",
   "metadata": {
    "nbpresent": {
     "id": "2f6c23b9-8649-46eb-83a5-cb5c02a5be72"
    }
   },
   "source": [
    "- age_gruop:\n",
    "    - Age group 1 and 2 have a high no-show rate.\n",
    "    - Age group 5~8 have a low no-show rate.\n",
    "    - Age group 0 and 9 have the average no-show rate\n",
    "- days_to_app: The longer `days_to_app` is, the less likely the patients are to show up.\n",
    "- sms_received: The patients who received SMS reminders have a about 0.05 lower no-show rate than those who didn't.\n",
    "\n",
    "Other that the features above, the boolean features (scholarship, hipertension, diabetes, alcoholism, is_handicapped) and neighbourhood seem to be related to the no-show rate."
   ]
  },
  {
   "cell_type": "markdown",
   "metadata": {
    "nbpresent": {
     "id": "aadcc451-63e4-47bb-9fd6-9179738ccf6c"
    }
   },
   "source": [
    "<a id='conclusions'></a>\n",
    "# Conclusions\n",
    "\n",
    "> **Tip**: Finally, summarize your findings and the results that have been performed. Make sure that you are clear with regards to the limitations of your exploration. If you haven't done any statistical tests, do not imply any statistical conclusions. And make sure you avoid implying causation from correlation!\n",
    "\n",
    "> **Tip**: Once you are satisfied with your work here, check over your report to make sure that it is satisfies all the areas of the rubric (found on the project submission page at the end of the lesson). You should also probably remove all of the \"Tips\" like this one so that the presentation is as polished as possible."
   ]
  },
  {
   "cell_type": "markdown",
   "metadata": {
    "nbpresent": {
     "id": "b0a32cdb-56a5-496e-b326-e13f712a1470"
    }
   },
   "source": [
    "I have looked at most of the features in the dataset. Some of them show relationships with whether the patients showed up to the appointment.\n",
    "\n",
    "I found the following features affect the no-show rate of the patients.\n",
    "- age_gruop:\n",
    "    - Age group 10~29 have a high no-show rate.\n",
    "    - Age group 50~89 have a low no-show rate.\n",
    "    - Age group 0~9 and 90~99 have the average no-show rate\n",
    "- days_to_app: The longer days_to_app is, the less likely the patients are to show up.\n",
    "- sms_received: The patients who received SMS reminders have a about 0.05 lower no-show rate than those who didn't.\n",
    "\n",
    "Other that the features above, the boolean features (scholarship, hipertension, diabetes, alcoholism, is_handicapped) and neighbourhood seem to be related to the no-show rate. \n",
    "\n",
    "### Findings\n",
    "- The female patients with alcoholism have a much higher no-show rate than the male patients with alcoholism.\n",
    "\n",
    "\n",
    "### Limitations\n",
    "- This is an EDA to provide insights for further analysis and relationships between each feature are not sufficiently investigated.\n",
    "- Statistical modeling is necessary to determine which feature explains or predicts no-show rate effectively.\n",
    "- As I pointed out in the early part of this EDA, some patients visit the hospital multiple times in a day. One possible reasoning is that consecutive visits to different departments are counted as appointment. The provider of this dataset should clarify about this."
   ]
  },
  {
   "cell_type": "markdown",
   "metadata": {
    "nbpresent": {
     "id": "8f783334-42dd-4199-b7b8-18e739a0ecfc"
    }
   },
   "source": [
    "## Submitting your Project \n",
    "\n",
    "> Before you submit your project, you need to create a .html or .pdf version of this notebook in the workspace here. To do that, run the code cell below. If it worked correctly, you should get a return code of 0, and you should see the generated .html file in the workspace directory (click on the orange Jupyter icon in the upper left).\n",
    "\n",
    "> Alternatively, you can download this report as .html via the **File** > **Download as** submenu, and then manually upload it into the workspace directory by clicking on the orange Jupyter icon in the upper left, then using the Upload button.\n",
    "\n",
    "> Once you've done this, you can submit your project by clicking on the \"Submit Project\" button in the lower right here. This will create and submit a zip file with this .ipynb doc and the .html or .pdf version you created. Congratulations!"
   ]
  },
  {
   "cell_type": "code",
   "execution_count": 43,
   "metadata": {
    "nbpresent": {
     "id": "5811cf4d-426b-4ac3-8211-598293dde862"
    }
   },
   "outputs": [
    {
     "data": {
      "text/plain": [
       "1"
      ]
     },
     "execution_count": 43,
     "metadata": {},
     "output_type": "execute_result"
    }
   ],
   "source": [
    "from subprocess import call\n",
    "call(['python', '-m', 'nbconvert', 'Investigate_a_Dataset.ipynb'])"
   ]
  }
 ],
 "metadata": {
  "kernelspec": {
   "display_name": "Python [conda env:machine-learning]",
   "language": "python",
   "name": "conda-env-machine-learning-py"
  },
  "language_info": {
   "codemirror_mode": {
    "name": "ipython",
    "version": 3
   },
   "file_extension": ".py",
   "mimetype": "text/x-python",
   "name": "python",
   "nbconvert_exporter": "python",
   "pygments_lexer": "ipython3",
   "version": "3.6.6"
  }
 },
 "nbformat": 4,
 "nbformat_minor": 2
}
